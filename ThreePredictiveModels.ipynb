{
 "cells": [
  {
   "cell_type": "markdown",
   "metadata": {
    "jp-MarkdownHeadingCollapsed": true,
    "tags": []
   },
   "source": [
    "# Imports"
   ]
  },
  {
   "cell_type": "code",
   "execution_count": 1,
   "metadata": {
    "execution": {
     "iopub.execute_input": "2022-09-01T18:37:00.827701Z",
     "iopub.status.busy": "2022-09-01T18:37:00.827170Z",
     "iopub.status.idle": "2022-09-01T18:37:05.981022Z",
     "shell.execute_reply": "2022-09-01T18:37:05.978555Z",
     "shell.execute_reply.started": "2022-09-01T18:37:00.827567Z"
    },
    "pycharm": {
     "name": "#%%\n"
    },
    "tags": []
   },
   "outputs": [],
   "source": [
    "import os\n",
    "\n",
    "import numpy as np\n",
    "import pandas as pd\n",
    "\n",
    "# Commented out because Modin is not compatible with Lux.\n",
    "# import modin.pandas as pd\n",
    "# from distributed import Client\n",
    "# client = Client() # Initialize for Dask, which is used by modin.\n",
    "\n",
    "import lux\n",
    "\n",
    "# The `display` function is what is used behind the scenes to format raw data for display in a notebook.\n",
    "from IPython.display import display, Markdown\n",
    "\n",
    "# Needed if I want fine-grained access to modify plots.\n",
    "import matplotlib.pyplot as plt"
   ]
  },
  {
   "cell_type": "markdown",
   "metadata": {
    "jupyter": {
     "outputs_hidden": false
    },
    "pycharm": {
     "name": "#%%\n"
    },
    "tags": []
   },
   "source": [
    "# Data Set Description"
   ]
  },
  {
   "cell_type": "markdown",
   "metadata": {
    "jupyter": {
     "outputs_hidden": false
    },
    "pycharm": {
     "name": "#%%\n"
    },
    "tags": []
   },
   "source": [
    "For a formatted version of the data set description from the [source website](https://archive.ics.uci.edu/ml/datasets/Bank+Marketing), see [Data Set Description.md](Data Set Description.md)."
   ]
  },
  {
   "cell_type": "markdown",
   "metadata": {
    "tags": []
   },
   "source": [
    "# Data import and cleaning"
   ]
  },
  {
   "cell_type": "markdown",
   "metadata": {},
   "source": [
    "Boilerplate to read in the data and display its list of columns."
   ]
  },
  {
   "cell_type": "code",
   "execution_count": 2,
   "metadata": {
    "execution": {
     "iopub.execute_input": "2022-09-01T18:37:05.984929Z",
     "iopub.status.busy": "2022-09-01T18:37:05.983925Z",
     "iopub.status.idle": "2022-09-01T18:37:06.194733Z",
     "shell.execute_reply": "2022-09-01T18:37:06.193348Z",
     "shell.execute_reply.started": "2022-09-01T18:37:05.984883Z"
    },
    "tags": []
   },
   "outputs": [],
   "source": [
    "data_path = 'bank-additional/bank-additional-full.csv'\n",
    "if not os.path.exists(data_path):\n",
    "    print(f'ERROR: Cannot find file {data_path}')\n",
    "\n",
    "df = pd.read_csv(data_path, sep=';')"
   ]
  },
  {
   "cell_type": "markdown",
   "metadata": {
    "tags": []
   },
   "source": [
    "## Inspect & Rename columns/fields"
   ]
  },
  {
   "cell_type": "markdown",
   "metadata": {},
   "source": [
    "What data type did each column come in as?"
   ]
  },
  {
   "cell_type": "code",
   "execution_count": 3,
   "metadata": {
    "execution": {
     "iopub.execute_input": "2022-09-01T18:37:06.200885Z",
     "iopub.status.busy": "2022-09-01T18:37:06.198895Z",
     "iopub.status.idle": "2022-09-01T18:37:06.234466Z",
     "shell.execute_reply": "2022-09-01T18:37:06.227977Z",
     "shell.execute_reply.started": "2022-09-01T18:37:06.200828Z"
    },
    "tags": []
   },
   "outputs": [
    {
     "name": "stdout",
     "output_type": "stream",
     "text": [
      "age                 int64\n",
      "job                object\n",
      "marital            object\n",
      "education          object\n",
      "default            object\n",
      "housing            object\n",
      "loan               object\n",
      "contact            object\n",
      "month              object\n",
      "day_of_week        object\n",
      "duration            int64\n",
      "campaign            int64\n",
      "pdays               int64\n",
      "previous            int64\n",
      "poutcome           object\n",
      "emp.var.rate      float64\n",
      "cons.price.idx    float64\n",
      "cons.conf.idx     float64\n",
      "euribor3m         float64\n",
      "nr.employed       float64\n",
      "y                  object\n",
      "dtype: object\n"
     ]
    }
   ],
   "source": [
    "df.dtypes"
   ]
  },
  {
   "cell_type": "markdown",
   "metadata": {},
   "source": [
    "Let's give some of these columns better names.\n",
    " * The outcome variable is called \"y\", which is meaningless. Let's call it \"output\".\n",
    " * Likewise, the column named \"default\" reports whether the person has any credit in default.\n",
    " * Both \"housing\" and \"loan\" refer to a loan, housing loan and personal loan respectively. \n",
    " * Let's indicate which columns are associated with contact during the current campaign and which with the previous campaign.\n",
    " * The \"campaign\" column reports how many times the person was contacted for this current campaign.\n",
    " * etc."
   ]
  },
  {
   "cell_type": "code",
   "execution_count": 4,
   "metadata": {
    "execution": {
     "iopub.execute_input": "2022-09-01T18:37:06.245830Z",
     "iopub.status.busy": "2022-09-01T18:37:06.240932Z",
     "iopub.status.idle": "2022-09-01T18:37:06.269332Z",
     "shell.execute_reply": "2022-09-01T18:37:06.264836Z",
     "shell.execute_reply.started": "2022-09-01T18:37:06.245759Z"
    },
    "tags": []
   },
   "outputs": [],
   "source": [
    "df.rename(\n",
    "    inplace=True, \n",
    "    columns={\n",
    "        # Customer info\n",
    "        'y':'outcome', \n",
    "        'default': 'credit_in_default', \n",
    "        'housing': 'housing_loan', \n",
    "        'loan':    'personal_loan', \n",
    "        \n",
    "        # Specific to this campaign\n",
    "        'contact':     'contact_method',\n",
    "        'month':       'contact_month',\n",
    "        'day_of_week': 'contact_weekday',\n",
    "        'duration':    'contact_duration', # Do not use for prediction. See data description.\n",
    "        'campaign':    'contact_count',    # For this campaign only\n",
    "        # Regarding previous campaign\n",
    "        'pdays':       'days_since_previous_campaign_contact',\n",
    "        'previous':    'previous_contact_count', # Count of times contacted before the current campaign.\n",
    "        'poutcome':    'previous_outcome',       # Outcome of previous campaign.\n",
    "        \n",
    "        # Social and Economic data\n",
    "        'emp.var.rate':   'employment_variation_rate', # Quarterly indicator -- for what quarter?\n",
    "        'cons.price.idx': 'consumer_price_index',      # Monthly indicator -- for what month?\n",
    "        'cons.conf.idx': 'consumer_confidence_index',  # Monthly indicator -- for what month?\n",
    "        'euribor3m':     'euribor_3_month_rate',       # Daily indicator -- for what day?\n",
    "        'nr.employed':   'employee_count',             # What is this?\n",
    "    }\n",
    ")"
   ]
  },
  {
   "cell_type": "markdown",
   "metadata": {
    "tags": []
   },
   "source": [
    "## Inspect values to understand data set"
   ]
  },
  {
   "cell_type": "markdown",
   "metadata": {
    "tags": []
   },
   "source": [
    "### Are there any missing values?"
   ]
  },
  {
   "cell_type": "markdown",
   "metadata": {},
   "source": [
    "Several columns have a special value that is semantically equivalent to `NaN`/`Null`, but do any of the columns in any of the rows actually contain `NaN`/`Null`?"
   ]
  },
  {
   "cell_type": "code",
   "execution_count": 5,
   "metadata": {
    "execution": {
     "iopub.execute_input": "2022-09-01T18:37:06.273113Z",
     "iopub.status.busy": "2022-09-01T18:37:06.272212Z",
     "iopub.status.idle": "2022-09-01T18:37:06.398504Z",
     "shell.execute_reply": "2022-09-01T18:37:06.397311Z",
     "shell.execute_reply.started": "2022-09-01T18:37:06.273053Z"
    },
    "tags": []
   },
   "outputs": [
    {
     "data": {
      "text/plain": [
       "0"
      ]
     },
     "execution_count": 5,
     "metadata": {},
     "output_type": "execute_result"
    }
   ],
   "source": [
    "len(df[df.isnull().any(axis=1)])"
   ]
  },
  {
   "cell_type": "markdown",
   "metadata": {},
   "source": [
    "No `NaN`/`Null` values. In some cases, having `NaN`/`Null` values is convenient for the purposes of encoding. We will convert the semantically equivalent special values to `NaN`."
   ]
  },
  {
   "cell_type": "code",
   "execution_count": 6,
   "metadata": {
    "execution": {
     "iopub.execute_input": "2022-09-01T18:37:06.403078Z",
     "iopub.status.busy": "2022-09-01T18:37:06.400597Z",
     "iopub.status.idle": "2022-09-01T18:37:06.542993Z",
     "shell.execute_reply": "2022-09-01T18:37:06.541766Z",
     "shell.execute_reply.started": "2022-09-01T18:37:06.403029Z"
    }
   },
   "outputs": [],
   "source": [
    "replacements = {\n",
    "    # Several columns\n",
    "    'unknown': np.nan,\n",
    "    # Days since previous campaign contact uses 999 as a special value\n",
    "    999: np.nan,\n",
    "    # If a customer did not exist during the previous campaing, its outcome is `'nonexistent'`\n",
    "    'nonexistent': np.nan,\n",
    "}\n",
    "df.replace(to_replace=replacements, inplace=True)"
   ]
  },
  {
   "cell_type": "markdown",
   "metadata": {
    "tags": []
   },
   "source": [
    "### What are \"Social and Economic Context Attributes\"?"
   ]
  },
  {
   "cell_type": "markdown",
   "metadata": {},
   "source": [
    "Let's inspect the \"Social and Economic Context Attributes\" data. For each column, we display each value and a count of how many times that value appears in the data set."
   ]
  },
  {
   "cell_type": "code",
   "execution_count": 7,
   "metadata": {
    "collapsed": true,
    "execution": {
     "iopub.execute_input": "2022-09-01T18:37:06.545012Z",
     "iopub.status.busy": "2022-09-01T18:37:06.544418Z",
     "iopub.status.idle": "2022-09-01T18:37:08.786609Z",
     "shell.execute_reply": "2022-09-01T18:37:08.758782Z",
     "shell.execute_reply.started": "2022-09-01T18:37:06.544971Z"
    },
    "jupyter": {
     "outputs_hidden": true
    },
    "tags": []
   },
   "outputs": [
    {
     "data": {
      "application/vnd.jupyter.widget-view+json": {
       "model_id": "5c8a2e9a17e144448809282e1eb4176e",
       "version_major": 2,
       "version_minor": 0
      },
      "text/plain": [
       "Button(description='Toggle Pandas/Lux', layout=Layout(top='5px', width='140px'), style=ButtonStyle())"
      ]
     },
     "metadata": {},
     "output_type": "display_data"
    },
    {
     "data": {
      "application/vnd.jupyter.widget-view+json": {
       "model_id": "37da61f626634fbaa84c89a6a14bb6ae",
       "version_major": 2,
       "version_minor": 0
      },
      "text/plain": [
       "Output()"
      ]
     },
     "metadata": {},
     "output_type": "display_data"
    },
    {
     "data": {
      "application/vnd.jupyter.widget-view+json": {
       "model_id": "6475f8102de6485fb0fb7b4a0e14911c",
       "version_major": 2,
       "version_minor": 0
      },
      "text/plain": [
       "Button(description='Toggle Pandas/Lux', layout=Layout(top='5px', width='140px'), style=ButtonStyle())"
      ]
     },
     "metadata": {},
     "output_type": "display_data"
    },
    {
     "data": {
      "application/vnd.jupyter.widget-view+json": {
       "model_id": "5901efb7eaa34a14b527535fb956917b",
       "version_major": 2,
       "version_minor": 0
      },
      "text/plain": [
       "Output()"
      ]
     },
     "metadata": {},
     "output_type": "display_data"
    },
    {
     "data": {
      "application/vnd.jupyter.widget-view+json": {
       "model_id": "3a6c6c2eeb404da9bb121269465f692d",
       "version_major": 2,
       "version_minor": 0
      },
      "text/plain": [
       "Button(description='Toggle Pandas/Lux', layout=Layout(top='5px', width='140px'), style=ButtonStyle())"
      ]
     },
     "metadata": {},
     "output_type": "display_data"
    },
    {
     "data": {
      "application/vnd.jupyter.widget-view+json": {
       "model_id": "f36b1a2f64c04563985eaa899f1a4ef0",
       "version_major": 2,
       "version_minor": 0
      },
      "text/plain": [
       "Output()"
      ]
     },
     "metadata": {},
     "output_type": "display_data"
    },
    {
     "data": {
      "application/vnd.jupyter.widget-view+json": {
       "model_id": "ebbdb056cd8e4b96bb21cdd32aa10394",
       "version_major": 2,
       "version_minor": 0
      },
      "text/plain": [
       "Button(description='Toggle Pandas/Lux', layout=Layout(top='5px', width='140px'), style=ButtonStyle())"
      ]
     },
     "metadata": {},
     "output_type": "display_data"
    },
    {
     "data": {
      "application/vnd.jupyter.widget-view+json": {
       "model_id": "b7ee80812da242a0842418499249fe0b",
       "version_major": 2,
       "version_minor": 0
      },
      "text/plain": [
       "Output()"
      ]
     },
     "metadata": {},
     "output_type": "display_data"
    },
    {
     "data": {
      "application/vnd.jupyter.widget-view+json": {
       "model_id": "cd2ea994a4b2474c90eabd813a5fafde",
       "version_major": 2,
       "version_minor": 0
      },
      "text/plain": [
       "Button(description='Toggle Pandas/Lux', layout=Layout(top='5px', width='140px'), style=ButtonStyle())"
      ]
     },
     "metadata": {},
     "output_type": "display_data"
    },
    {
     "data": {
      "application/vnd.jupyter.widget-view+json": {
       "model_id": "393273cfa7444ba2b788eda62ad33123",
       "version_major": 2,
       "version_minor": 0
      },
      "text/plain": [
       "Output()"
      ]
     },
     "metadata": {},
     "output_type": "display_data"
    }
   ],
   "source": [
    "for col in ['employment_variation_rate', 'consumer_price_index','consumer_confidence_index', 'euribor_3_month_rate', 'employee_count']:\n",
    "    display(df[col].value_counts())"
   ]
  },
  {
   "cell_type": "markdown",
   "metadata": {
    "execution": {
     "iopub.execute_input": "2022-08-29T19:51:34.240098Z",
     "iopub.status.busy": "2022-08-29T19:51:34.238396Z",
     "iopub.status.idle": "2022-08-29T19:51:34.248047Z",
     "shell.execute_reply": "2022-08-29T19:51:34.246123Z",
     "shell.execute_reply.started": "2022-08-29T19:51:34.240045Z"
    },
    "tags": []
   },
   "source": [
    "It is still not clear which quarter/month/day the economic indicators refer to. It may be the time period associated to the date of last contact for the current campaign. Likewise, it is not clear what \"number of employees\" means, particularly considering most of the values are not whole numbers. Without knowing more, it is hard to interpret these columns. However, we can still use them as features as long as we are careful regarding the assumptions we make of them."
   ]
  },
  {
   "cell_type": "markdown",
   "metadata": {
    "execution": {
     "iopub.execute_input": "2022-08-29T19:51:34.240098Z",
     "iopub.status.busy": "2022-08-29T19:51:34.238396Z",
     "iopub.status.idle": "2022-08-29T19:51:34.248047Z",
     "shell.execute_reply": "2022-08-29T19:51:34.246123Z",
     "shell.execute_reply.started": "2022-08-29T19:51:34.240045Z"
    },
    "tags": []
   },
   "source": [
    "### Education"
   ]
  },
  {
   "cell_type": "markdown",
   "metadata": {
    "execution": {
     "iopub.execute_input": "2022-08-29T19:51:34.240098Z",
     "iopub.status.busy": "2022-08-29T19:51:34.238396Z",
     "iopub.status.idle": "2022-08-29T19:51:34.248047Z",
     "shell.execute_reply": "2022-08-29T19:51:34.246123Z",
     "shell.execute_reply.started": "2022-08-29T19:51:34.240045Z"
    },
    "tags": []
   },
   "source": [
    "Education could be an ordered education *level*. It isn't entirely clear what the ordering should be. A reasonable guess from least education to most education might be\n",
    "\n",
    "0. illiterate\n",
    "1. basic.4y\n",
    "2. basic.6y\n",
    "3. basic.9y\n",
    "4. high.school\n",
    "5. professional.course\n",
    "6. university.degree\n",
    "\n",
    "with \"unknown\" being treated as a missing value. We assume this ordering and encode it in a new column named \"education_level\". It is not clear, though, if \"professional.course\" is comparable to the others."
   ]
  },
  {
   "cell_type": "code",
   "execution_count": 8,
   "metadata": {
    "execution": {
     "iopub.execute_input": "2022-09-01T18:37:08.798498Z",
     "iopub.status.busy": "2022-09-01T18:37:08.797338Z",
     "iopub.status.idle": "2022-09-01T18:37:08.917181Z",
     "shell.execute_reply": "2022-09-01T18:37:08.913652Z",
     "shell.execute_reply.started": "2022-09-01T18:37:08.798449Z"
    },
    "tags": []
   },
   "outputs": [],
   "source": [
    "ed_levels = {\n",
    "    'illiterate': 0,\n",
    "    'basic.4y': 1,\n",
    "    'basic.6y': 2,\n",
    "    'basic.9y': 3,\n",
    "    'high.school': 4,\n",
    "    'professional.course': 5,\n",
    "    'university.degree': 6,\n",
    "    'unknown': np.nan,\n",
    "    # If I have already replaced `'unknown'` with `np.nan`:\n",
    "    np.nan: np.nan\n",
    "}\n",
    "df['education_level'] = df['education'].map(lambda x: ed_levels[x])"
   ]
  },
  {
   "cell_type": "markdown",
   "metadata": {
    "execution": {
     "iopub.execute_input": "2022-08-29T19:51:34.240098Z",
     "iopub.status.busy": "2022-08-29T19:51:34.238396Z",
     "iopub.status.idle": "2022-08-29T19:51:34.248047Z",
     "shell.execute_reply": "2022-08-29T19:51:34.246123Z",
     "shell.execute_reply.started": "2022-08-29T19:51:34.240045Z"
    },
    "tags": []
   },
   "source": [
    "### Values in other columns"
   ]
  },
  {
   "cell_type": "markdown",
   "metadata": {
    "execution": {
     "iopub.execute_input": "2022-08-29T19:51:34.240098Z",
     "iopub.status.busy": "2022-08-29T19:51:34.238396Z",
     "iopub.status.idle": "2022-08-29T19:51:34.248047Z",
     "shell.execute_reply": "2022-08-29T19:51:34.246123Z",
     "shell.execute_reply.started": "2022-08-29T19:51:34.240045Z"
    },
    "jp-MarkdownHeadingCollapsed": true,
    "tags": []
   },
   "source": [
    "Let's inspect what values appear in some of the other columns. As before, we can find counts for each unique value in a column `col` by executing `display(df[col].value_counts())`. For quantitative columns, for economy of space we will look at a histogram and refer to the value counts without explicitly computing them. The Lux plugin for Jupyter can do this automatically for us."
   ]
  },
  {
   "cell_type": "code",
   "execution_count": 9,
   "metadata": {
    "execution": {
     "iopub.execute_input": "2022-09-01T18:37:08.922422Z",
     "iopub.status.busy": "2022-09-01T18:37:08.921275Z",
     "iopub.status.idle": "2022-09-01T18:37:12.491302Z",
     "shell.execute_reply": "2022-09-01T18:37:12.490335Z",
     "shell.execute_reply.started": "2022-09-01T18:37:08.922369Z"
    },
    "tags": []
   },
   "outputs": [
    {
     "data": {
      "application/vnd.jupyter.widget-view+json": {
       "model_id": "5cec57a26658490f80df0379f784c310",
       "version_major": 2,
       "version_minor": 0
      },
      "text/plain": [
       "Button(description='Toggle Pandas/Lux', layout=Layout(top='5px', width='140px'), style=ButtonStyle())"
      ]
     },
     "metadata": {},
     "output_type": "display_data"
    },
    {
     "data": {
      "application/vnd.jupyter.widget-view+json": {
       "model_id": "c3da412a8245480297d38978944ca171",
       "version_major": 2,
       "version_minor": 0
      },
      "text/plain": [
       "Output()"
      ]
     },
     "metadata": {},
     "output_type": "display_data"
    }
   ],
   "source": [
    "df[['age', 'job', 'marital', 'education', 'credit_in_default',\n",
    "       'housing_loan', 'personal_loan', 'contact_method', 'contact_month',\n",
    "       'contact_weekday', 'contact_duration', 'contact_count',\n",
    "       'days_since_previous_campaign_contact', 'previous_contact_count',\n",
    "       'previous_outcome']]"
   ]
  },
  {
   "cell_type": "markdown",
   "metadata": {},
   "source": [
    "The following will display value counts for the listed columns, but we hide the output for economy of space."
   ]
  },
  {
   "cell_type": "code",
   "execution_count": 10,
   "metadata": {
    "collapsed": true,
    "execution": {
     "iopub.execute_input": "2022-09-01T18:37:12.493699Z",
     "iopub.status.busy": "2022-09-01T18:37:12.493079Z",
     "iopub.status.idle": "2022-09-01T18:37:14.063064Z",
     "shell.execute_reply": "2022-09-01T18:37:14.061909Z",
     "shell.execute_reply.started": "2022-09-01T18:37:12.493670Z"
    },
    "jupyter": {
     "outputs_hidden": true
    },
    "tags": []
   },
   "outputs": [
    {
     "data": {
      "application/vnd.jupyter.widget-view+json": {
       "model_id": "f8656206944441c5bd2643e32a8263e2",
       "version_major": 2,
       "version_minor": 0
      },
      "text/plain": [
       "Button(description='Toggle Pandas/Lux', layout=Layout(top='5px', width='140px'), style=ButtonStyle())"
      ]
     },
     "metadata": {},
     "output_type": "display_data"
    },
    {
     "data": {
      "application/vnd.jupyter.widget-view+json": {
       "model_id": "6a5f06aeb9f84f46a3d9325a2d1325b3",
       "version_major": 2,
       "version_minor": 0
      },
      "text/plain": [
       "Output()"
      ]
     },
     "metadata": {},
     "output_type": "display_data"
    },
    {
     "data": {
      "application/vnd.jupyter.widget-view+json": {
       "model_id": "2fa6ff7466dd4070bc41e4c78fdc7444",
       "version_major": 2,
       "version_minor": 0
      },
      "text/plain": [
       "Button(description='Toggle Pandas/Lux', layout=Layout(top='5px', width='140px'), style=ButtonStyle())"
      ]
     },
     "metadata": {},
     "output_type": "display_data"
    },
    {
     "data": {
      "application/vnd.jupyter.widget-view+json": {
       "model_id": "604647e72eef420d8b480cd7c08b5eae",
       "version_major": 2,
       "version_minor": 0
      },
      "text/plain": [
       "Output()"
      ]
     },
     "metadata": {},
     "output_type": "display_data"
    },
    {
     "data": {
      "application/vnd.jupyter.widget-view+json": {
       "model_id": "54f8dbb71ca74b2d90c747a38cf71f9b",
       "version_major": 2,
       "version_minor": 0
      },
      "text/plain": [
       "Button(description='Toggle Pandas/Lux', layout=Layout(top='5px', width='140px'), style=ButtonStyle())"
      ]
     },
     "metadata": {},
     "output_type": "display_data"
    },
    {
     "data": {
      "application/vnd.jupyter.widget-view+json": {
       "model_id": "18c33a6ae51a4ab48ee154a32c863cef",
       "version_major": 2,
       "version_minor": 0
      },
      "text/plain": [
       "Output()"
      ]
     },
     "metadata": {},
     "output_type": "display_data"
    },
    {
     "data": {
      "application/vnd.jupyter.widget-view+json": {
       "model_id": "c55bc4315b394a76a07264431b245818",
       "version_major": 2,
       "version_minor": 0
      },
      "text/plain": [
       "Button(description='Toggle Pandas/Lux', layout=Layout(top='5px', width='140px'), style=ButtonStyle())"
      ]
     },
     "metadata": {},
     "output_type": "display_data"
    },
    {
     "data": {
      "application/vnd.jupyter.widget-view+json": {
       "model_id": "d5bdc9aaf8724177857ba4640dabd902",
       "version_major": 2,
       "version_minor": 0
      },
      "text/plain": [
       "Output()"
      ]
     },
     "metadata": {},
     "output_type": "display_data"
    },
    {
     "data": {
      "application/vnd.jupyter.widget-view+json": {
       "model_id": "a3110fc48a834da8ab8b658f72a6469c",
       "version_major": 2,
       "version_minor": 0
      },
      "text/plain": [
       "Button(description='Toggle Pandas/Lux', layout=Layout(top='5px', width='140px'), style=ButtonStyle())"
      ]
     },
     "metadata": {},
     "output_type": "display_data"
    },
    {
     "data": {
      "application/vnd.jupyter.widget-view+json": {
       "model_id": "53f228334cce49a99441d24e00e83fbb",
       "version_major": 2,
       "version_minor": 0
      },
      "text/plain": [
       "Output()"
      ]
     },
     "metadata": {},
     "output_type": "display_data"
    },
    {
     "data": {
      "application/vnd.jupyter.widget-view+json": {
       "model_id": "cd2b43f36baa407db77237fdc8c96c8d",
       "version_major": 2,
       "version_minor": 0
      },
      "text/plain": [
       "Button(description='Toggle Pandas/Lux', layout=Layout(top='5px', width='140px'), style=ButtonStyle())"
      ]
     },
     "metadata": {},
     "output_type": "display_data"
    },
    {
     "data": {
      "application/vnd.jupyter.widget-view+json": {
       "model_id": "71eb836126614e478ce5e28d860dffed",
       "version_major": 2,
       "version_minor": 0
      },
      "text/plain": [
       "Output()"
      ]
     },
     "metadata": {},
     "output_type": "display_data"
    },
    {
     "data": {
      "application/vnd.jupyter.widget-view+json": {
       "model_id": "f0dc025dc6694be88d9c86aaf09617e3",
       "version_major": 2,
       "version_minor": 0
      },
      "text/plain": [
       "Button(description='Toggle Pandas/Lux', layout=Layout(top='5px', width='140px'), style=ButtonStyle())"
      ]
     },
     "metadata": {},
     "output_type": "display_data"
    },
    {
     "data": {
      "application/vnd.jupyter.widget-view+json": {
       "model_id": "bcbd646b0f814ce3b2f423e934fc8ba0",
       "version_major": 2,
       "version_minor": 0
      },
      "text/plain": [
       "Output()"
      ]
     },
     "metadata": {},
     "output_type": "display_data"
    },
    {
     "data": {
      "application/vnd.jupyter.widget-view+json": {
       "model_id": "c02ceaca8e6047588e30ad455d4749d1",
       "version_major": 2,
       "version_minor": 0
      },
      "text/plain": [
       "Button(description='Toggle Pandas/Lux', layout=Layout(top='5px', width='140px'), style=ButtonStyle())"
      ]
     },
     "metadata": {},
     "output_type": "display_data"
    },
    {
     "data": {
      "application/vnd.jupyter.widget-view+json": {
       "model_id": "81babc1d4a9f44fe9e5c8b59dba6c6d4",
       "version_major": 2,
       "version_minor": 0
      },
      "text/plain": [
       "Output()"
      ]
     },
     "metadata": {},
     "output_type": "display_data"
    },
    {
     "data": {
      "application/vnd.jupyter.widget-view+json": {
       "model_id": "29b3e4a3ef08419f8abcbe093a8b2ce6",
       "version_major": 2,
       "version_minor": 0
      },
      "text/plain": [
       "Button(description='Toggle Pandas/Lux', layout=Layout(top='5px', width='140px'), style=ButtonStyle())"
      ]
     },
     "metadata": {},
     "output_type": "display_data"
    },
    {
     "data": {
      "application/vnd.jupyter.widget-view+json": {
       "model_id": "6e27b654fe964ddba5e6d7ddf4aa95f6",
       "version_major": 2,
       "version_minor": 0
      },
      "text/plain": [
       "Output()"
      ]
     },
     "metadata": {},
     "output_type": "display_data"
    },
    {
     "data": {
      "application/vnd.jupyter.widget-view+json": {
       "model_id": "cfe5b5b86d0f4bc1a96811c37a834ff1",
       "version_major": 2,
       "version_minor": 0
      },
      "text/plain": [
       "Button(description='Toggle Pandas/Lux', layout=Layout(top='5px', width='140px'), style=ButtonStyle())"
      ]
     },
     "metadata": {},
     "output_type": "display_data"
    },
    {
     "data": {
      "application/vnd.jupyter.widget-view+json": {
       "model_id": "8af1d448efdc4620b38424b1c3c5f77c",
       "version_major": 2,
       "version_minor": 0
      },
      "text/plain": [
       "Output()"
      ]
     },
     "metadata": {},
     "output_type": "display_data"
    },
    {
     "data": {
      "application/vnd.jupyter.widget-view+json": {
       "model_id": "948920e0afca441ebf5d7d06c8d53105",
       "version_major": 2,
       "version_minor": 0
      },
      "text/plain": [
       "Button(description='Toggle Pandas/Lux', layout=Layout(top='5px', width='140px'), style=ButtonStyle())"
      ]
     },
     "metadata": {},
     "output_type": "display_data"
    },
    {
     "data": {
      "application/vnd.jupyter.widget-view+json": {
       "model_id": "285cdf5676cb4c2ab585e82466aa9256",
       "version_major": 2,
       "version_minor": 0
      },
      "text/plain": [
       "Output()"
      ]
     },
     "metadata": {},
     "output_type": "display_data"
    },
    {
     "data": {
      "application/vnd.jupyter.widget-view+json": {
       "model_id": "cec3eef22dba484ea37f6bd25c4f9d32",
       "version_major": 2,
       "version_minor": 0
      },
      "text/plain": [
       "Button(description='Toggle Pandas/Lux', layout=Layout(top='5px', width='140px'), style=ButtonStyle())"
      ]
     },
     "metadata": {},
     "output_type": "display_data"
    },
    {
     "data": {
      "application/vnd.jupyter.widget-view+json": {
       "model_id": "cf840634573543fcabba0a83248c3b27",
       "version_major": 2,
       "version_minor": 0
      },
      "text/plain": [
       "Output()"
      ]
     },
     "metadata": {},
     "output_type": "display_data"
    },
    {
     "data": {
      "application/vnd.jupyter.widget-view+json": {
       "model_id": "ab80ca205508484799a746406600ac36",
       "version_major": 2,
       "version_minor": 0
      },
      "text/plain": [
       "Button(description='Toggle Pandas/Lux', layout=Layout(top='5px', width='140px'), style=ButtonStyle())"
      ]
     },
     "metadata": {},
     "output_type": "display_data"
    },
    {
     "data": {
      "application/vnd.jupyter.widget-view+json": {
       "model_id": "97d675d21a42484fb900699a559f690d",
       "version_major": 2,
       "version_minor": 0
      },
      "text/plain": [
       "Output()"
      ]
     },
     "metadata": {},
     "output_type": "display_data"
    },
    {
     "data": {
      "application/vnd.jupyter.widget-view+json": {
       "model_id": "60e46be04cf042c597c12978472d0332",
       "version_major": 2,
       "version_minor": 0
      },
      "text/plain": [
       "Button(description='Toggle Pandas/Lux', layout=Layout(top='5px', width='140px'), style=ButtonStyle())"
      ]
     },
     "metadata": {},
     "output_type": "display_data"
    },
    {
     "data": {
      "application/vnd.jupyter.widget-view+json": {
       "model_id": "70119a880fc94cfd941a7d6b714cf8d8",
       "version_major": 2,
       "version_minor": 0
      },
      "text/plain": [
       "Output()"
      ]
     },
     "metadata": {},
     "output_type": "display_data"
    },
    {
     "data": {
      "application/vnd.jupyter.widget-view+json": {
       "model_id": "b0728da7b84e42438b9e3bea5187fb6f",
       "version_major": 2,
       "version_minor": 0
      },
      "text/plain": [
       "Button(description='Toggle Pandas/Lux', layout=Layout(top='5px', width='140px'), style=ButtonStyle())"
      ]
     },
     "metadata": {},
     "output_type": "display_data"
    },
    {
     "data": {
      "application/vnd.jupyter.widget-view+json": {
       "model_id": "75aa8f79c2c14528b35c5e71c459ac3f",
       "version_major": 2,
       "version_minor": 0
      },
      "text/plain": [
       "Output()"
      ]
     },
     "metadata": {},
     "output_type": "display_data"
    }
   ],
   "source": [
    "for col in ['age', 'job', 'marital', 'education', 'credit_in_default',\n",
    "       'housing_loan', 'personal_loan', 'contact_method', 'contact_month',\n",
    "       'contact_weekday', 'contact_duration', 'contact_count',\n",
    "       'days_since_previous_campaign_contact', 'previous_contact_count',\n",
    "       'previous_outcome']:\n",
    "    display(df[col].value_counts())"
   ]
  },
  {
   "cell_type": "markdown",
   "metadata": {},
   "source": [
    "We find almost all customers were never contacted for the previous campaign. Likewise, relatively few customers have data for the outcome of the previous campaign (perhaps because they were not customers at the time). This casts doubt on the usefulness of these fields except as a comparative benchmark.\n",
    "\n",
    "Only 3 records have a value of yes in the \"credit_in_default\" column. (The remaining values are either no or unknown.) Because any \"correlation\" within the 3 yes records has a high likelihood of being due to random chance, this column should not be used for prediction. "
   ]
  },
  {
   "cell_type": "markdown",
   "metadata": {
    "tags": []
   },
   "source": [
    "## Panel Data (Time Series)"
   ]
  },
  {
   "cell_type": "markdown",
   "metadata": {
    "jp-MarkdownHeadingCollapsed": true,
    "tags": []
   },
   "source": [
    "The campaign ran from March through December. The contact month is the month of the last contact of the campaign, allowing us to view the data set as panel data (multidimensional equivalent of time series). We transform each month to its usual numeric value to more easily order the data by time.\n",
    "\n",
    "The task is to predict the outcome using the data set, but in practice we would probably want to update the model *during* a campaign. The months column would be crucial for developing that model."
   ]
  },
  {
   "cell_type": "code",
   "execution_count": 11,
   "metadata": {
    "execution": {
     "iopub.execute_input": "2022-09-01T18:37:14.066221Z",
     "iopub.status.busy": "2022-09-01T18:37:14.065141Z",
     "iopub.status.idle": "2022-09-01T18:37:14.071812Z",
     "shell.execute_reply": "2022-09-01T18:37:14.070776Z",
     "shell.execute_reply.started": "2022-09-01T18:37:14.066187Z"
    },
    "tags": []
   },
   "outputs": [],
   "source": [
    "months = { m: i+3 for i, m in enumerate(['mar', 'apr', 'may', 'jun', 'jul', 'aug', 'sep', 'oct', 'nov', 'dec']) }"
   ]
  },
  {
   "cell_type": "code",
   "execution_count": 12,
   "metadata": {
    "execution": {
     "iopub.execute_input": "2022-09-01T18:37:14.074067Z",
     "iopub.status.busy": "2022-09-01T18:37:14.073309Z",
     "iopub.status.idle": "2022-09-01T18:37:14.118135Z",
     "shell.execute_reply": "2022-09-01T18:37:14.116498Z",
     "shell.execute_reply.started": "2022-09-01T18:37:14.074034Z"
    },
    "tags": []
   },
   "outputs": [],
   "source": [
    "df['contact_month'] = df['contact_month'].map(lambda x: months[x])"
   ]
  },
  {
   "cell_type": "markdown",
   "metadata": {},
   "source": [
    "Let's see a histogram."
   ]
  },
  {
   "cell_type": "code",
   "execution_count": 13,
   "metadata": {
    "execution": {
     "iopub.execute_input": "2022-09-01T18:37:14.122672Z",
     "iopub.status.busy": "2022-09-01T18:37:14.121660Z",
     "iopub.status.idle": "2022-09-01T18:37:14.461327Z",
     "shell.execute_reply": "2022-09-01T18:37:14.460063Z",
     "shell.execute_reply.started": "2022-09-01T18:37:14.122624Z"
    },
    "tags": []
   },
   "outputs": [
    {
     "data": {
      "image/png": "[encoded data removed]",
      "text/plain": [
       "<Figure size 640x480 with 1 Axes>"
      ]
     },
     "metadata": {},
     "output_type": "display_data"
    }
   ],
   "source": [
    "month_hist_data = df['contact_month'].value_counts().sort_index()\n",
    "ax = month_hist_data.plot.bar()\n",
    "_  = ax.bar_label(ax.containers[0])\n",
    "plt.show()"
   ]
  },
  {
   "cell_type": "code",
   "execution_count": null,
   "metadata": {},
   "outputs": [],
   "source": []
  },
  {
   "cell_type": "markdown",
   "metadata": {
    "execution": {
     "iopub.execute_input": "2022-08-31T00:50:38.237529Z",
     "iopub.status.busy": "2022-08-31T00:50:38.234679Z",
     "iopub.status.idle": "2022-08-31T00:50:38.271903Z",
     "shell.execute_reply": "2022-08-31T00:50:38.261765Z",
     "shell.execute_reply.started": "2022-08-31T00:50:38.237453Z"
    }
   },
   "source": [
    "# Predictive Models"
   ]
  },
  {
   "cell_type": "markdown",
   "metadata": {
    "tags": []
   },
   "source": [
    "## Measuring Performance"
   ]
  },
  {
   "cell_type": "markdown",
   "metadata": {},
   "source": [
    "There are many ways to measure the performance of a predictive model. The problem context—the businesss use-case, computational environment, etc.— will determine which metrics are most suitable for judging the suitability of a model. In the case of this problem, let us assume that we wish to target only those customers who the model predicts will ultimately subscribe to the product. Our goal, then, is to simultaneously\n",
    "\n",
    "1. minimize the number of customers the campaign targets, which has a theoretical minimum equal to the true number of subscribers; and\n",
    "1. maximize the number of customers who ultimately choose to subscribe to the product, which has a theoretical maximum equal to the true number of subscribers.\n",
    "\n",
    "A priori, it may not be possible to achieve both goals simultaneously without an infallible oracle. Consider the extreme cases: One way to achieve the second goal is to target every customer. Then every customer that will respond to the campaign with a subscription is sure to be targeted, and thus the number of subscribers is maximized. However, the number of targeted customers is also maximized. Likewise, the second goal is achievable by not targeting any customer, but this strategy *minimizes* the number of customers who will ultimately subscribe to the product.\n",
    "\n",
    "In the presence of some fixed uncertainty, the optimal strategy will ultimately depend on the marginal cost of targeting a customer relative to the marginal reward of obtaining an additional subscriber. Let's call this the *secondary* optimization problem. These costs are not provided in the problem statement, so we must assume that this secondary optimization problem will be solved after we develope our predictive model, perhaps by a different business unit that better understand those business costs. Our goal, then, is to try to control the uncertainty, as it is clear that a model which more accurately predicts the true outcome than another model is strictly superior to that other model *regardless of the secondary optimization problem.*\n",
    "\n",
    "Let us adopt the following abbreviations:\n",
    "\n",
    "|  |  |  The model… |\n",
    "|:---|:---|:---|\n",
    "| TP | True Positive | correctly predicts a customer will subscribe |\n",
    "| TN | True Negative | correctly predicts a customer will not subscribe |\n",
    "| FP | False Positive | incorrectly predicts a customer will subscribe |\n",
    "| FN | False Negative | incorrectly predicts a customer will not subscribe |\n",
    "\n",
    "![Abbreviations](./Prediciton.svg)\n",
    "\n",
    "\n",
    "Given the discussion above and a little reflection, it is clear that we wish to\n",
    "\n",
    "1. maximize TP, and\n",
    "1. maximize TN.\n",
    "\n",
    "(Since any one of the sets can be written in terms of the others, there are multiple equivalent ways of expressing this. For example: We want to minimize FP and minimize FN.) We will use the following metrics to quantify how well these goals are achieved (see [wikipedia](https://en.wikipedia.org/wiki/Sensitivity_and_specificity#Specificity) for these metrics and others):"
   ]
  },
  {
   "cell_type": "markdown",
   "metadata": {},
   "source": [
    "| Term and Common Synonyms | &nbsp;&nbsp;&nbsp;&nbsp;&nbsp;&nbsp;&nbsp;&nbsp;&nbsp;&nbsp;Formula&nbsp;&nbsp;&nbsp;&nbsp;&nbsp;&nbsp;&nbsp;&nbsp;&nbsp;&nbsp;&nbsp;&nbsp;&nbsp; | Interpretation |\n",
    "|:------|:--------:|:-------|\n",
    "| sensitivity,<br>recall,<br>hit rate,<br>or true positive rate (TPR) | ${\\frac {\\mathrm {TP} }{\\mathrm {P} }}={\\frac {\\mathrm {TP} }{\\mathrm {TP} +\\mathrm {FN} }}$ | The percentage of subscribers that were accurately predicted |\n",
    "| specificity,<br>selectivity or<br>true negative rate (TNR) | ${\\frac {\\mathrm {TN} }{\\mathrm {N} }}={\\frac {\\mathrm {TN} }{\\mathrm {TN} +\\mathrm {FP} }}$ | The percentage of nonsubscribers that were accurately predicted |"
   ]
  },
  {
   "cell_type": "markdown",
   "metadata": {},
   "source": [
    "We will also give TN, TP, FN, and FP in absolute numbers in the form of the matrix:\n",
    "\n",
    "|  | Actual Subscriber | Actual Nonsubscriber | Total |\n",
    "|-----:|:---:|:----:|:----|\n",
    "| Predicted Subscriber | TP | FP | TP + FP |\n",
    "| Predicted Nonsubscriber | FN | TN | FN + TN |\n",
    "| Total | TP + FN | FP + TN | \\# of People |"
   ]
  },
  {
   "cell_type": "markdown",
   "metadata": {},
   "source": [
    "The four central cells of this matrix is called the confusion matrix. \n",
    "\n",
    "Classification models often have a threshold parameter that controls the cutoff probability above which a prediction is determined to be positive (predicted yes). For consistency we keep this value at 50%, but in practice the marginal cost of a false positive relative to marginal cost of targeting a customer will determine how to tune this parameter. \n",
    "\n",
    "Models are trained on 75% of the data set and their performance is evaluated on the remaining 25%."
   ]
  },
  {
   "cell_type": "markdown",
   "metadata": {
    "jp-MarkdownHeadingCollapsed": true,
    "tags": []
   },
   "source": [
    "#### Code to compute performance"
   ]
  },
  {
   "cell_type": "code",
   "execution_count": 14,
   "metadata": {
    "execution": {
     "iopub.execute_input": "2022-09-01T18:37:14.463242Z",
     "iopub.status.busy": "2022-09-01T18:37:14.462572Z",
     "iopub.status.idle": "2022-09-01T18:37:14.674327Z",
     "shell.execute_reply": "2022-09-01T18:37:14.673368Z",
     "shell.execute_reply.started": "2022-09-01T18:37:14.463200Z"
    },
    "tags": []
   },
   "outputs": [],
   "source": [
    "from sklearn.metrics import precision_recall_fscore_support, confusion_matrix"
   ]
  },
  {
   "cell_type": "code",
   "execution_count": 15,
   "metadata": {
    "execution": {
     "iopub.execute_input": "2022-09-01T18:37:14.676667Z",
     "iopub.status.busy": "2022-09-01T18:37:14.676039Z",
     "iopub.status.idle": "2022-09-01T18:37:14.692693Z",
     "shell.execute_reply": "2022-09-01T18:37:14.688739Z",
     "shell.execute_reply.started": "2022-09-01T18:37:14.676636Z"
    },
    "tags": []
   },
   "outputs": [],
   "source": [
    "def confusion_matrix_md(predicted_y, true_y):\n",
    "    tn, fp, fn, tp = confusion_matrix(y_pred=predicted_y, y_true=true_y).ravel()\n",
    "    display(Markdown( f\"\"\"|  | Actual Subscriber | Actual Nonsubscriber | Total |\n",
    "|-----:|:---:|:----:|:----|\n",
    "| Predicted Subscriber | TP = {tp} | FP = {fp} | TP + FP = {tp+fp} |\n",
    "| Predicted Nonsubscriber | FN = {fn} | TN = {tn} | FN + TN = {fn+tn} |\n",
    "| Total | TP + FN={tp+fn} | FP + TN = {fp+tn} | {tp+tn+fp+fn} |\"\"\"))\n",
    "    "
   ]
  },
  {
   "cell_type": "code",
   "execution_count": 16,
   "metadata": {
    "execution": {
     "iopub.execute_input": "2022-09-01T18:37:14.697423Z",
     "iopub.status.busy": "2022-09-01T18:37:14.695923Z",
     "iopub.status.idle": "2022-09-01T18:37:14.713142Z",
     "shell.execute_reply": "2022-09-01T18:37:14.711414Z",
     "shell.execute_reply.started": "2022-09-01T18:37:14.697367Z"
    },
    "tags": []
   },
   "outputs": [],
   "source": [
    "def recall_selectivity_md(predicted_y, true_y):\n",
    "    tn, fp, fn, tp = confusion_matrix(y_pred=predicted_y, y_true=true_y).ravel()\n",
    "    display(Markdown( f\"\"\"|  | &nbsp;&nbsp;&nbsp;&nbsp;&nbsp;&nbsp;&nbsp;&nbsp;&nbsp;&nbsp;&nbsp;&nbsp;&nbsp;&nbsp;&nbsp;&nbsp;&nbsp;&nbsp;&nbsp;&nbsp;&nbsp;&nbsp;&nbsp;&nbsp;&nbsp;&nbsp;&nbsp;&nbsp;&nbsp;&nbsp;&nbsp;&nbsp;&nbsp;&nbsp;&nbsp;&nbsp;&nbsp;&nbsp;&nbsp;|\n",
    "|-----:|:---|\n",
    "| Recall | ${{ {{\\mathrm {{TP}} }} \\over {{\\mathrm {{TP}} +\\mathrm {{FN}} }}}}=$ {tp/(tp+fn):.2%} |\n",
    "| Selectivity | ${{ {{\\mathrm {{TN}} }} \\over {{\\mathrm {{TN}} +\\mathrm {{FP}} }}}}=$ {tn/(tn+fp):.2%} |\"\"\"))"
   ]
  },
  {
   "cell_type": "markdown",
   "metadata": {
    "tags": []
   },
   "source": [
    "## Linear Regression Model"
   ]
  },
  {
   "cell_type": "markdown",
   "metadata": {
    "tags": []
   },
   "source": [
    "### Pros and Cons of Linear Regression"
   ]
  },
  {
   "cell_type": "markdown",
   "metadata": {},
   "source": [
    "A linear regression model assumes the probability of the outcome conditioned on concrete values for the explanatory variables is a linear combination of those values. Of course, linear models work best when the relationships between the explanatory variables and the outcome are linear relationships, that is, they are linearly correlated.\n",
    "\n",
    "It is possible for two variables to have a very strong nonlinear relationship. Purely linear analysis can obscure this relationship, a phenomenon famously illustrated by [Anscombe's quartet](https://en.wikipedia.org/wiki/Anscombe%27s_quartet), which consists of four data sets \"that have nearly identical simple descriptive statistics, yet have very different distributions\":\n",
    "\n",
    "![Anscombe's quartet](https://upload.wikimedia.org/wikipedia/commons/e/ec/Anscombe%27s_quartet_3.svg)\n",
    "\n",
    "\n",
    "A model that assumes only linear relationships may perform very poorly despite the existence of a strong nonlinear relationships. Another challenge is multicolinearity, which is the phenomenon that the explanatory variables are not linearly independent. "
   ]
  },
  {
   "cell_type": "markdown",
   "metadata": {},
   "source": [
    "A full exposition of the assumptions of linear regression and the consequences of violations of those assumptions is out of scope of this exercise. However, linear relationships are abundant in nature, and in contexts in which linear regression performs well, it has the additional advantage of being easy to understand relative to other methods.\n",
    "\n",
    "For the reasons discussed above, ***we should expect this model to perform poorly*** relative to other models. However, it is so easy to understand and apply that it is worth trying nonetheless. It also gives us a basis for comparison for other models."
   ]
  },
  {
   "cell_type": "markdown",
   "metadata": {
    "tags": []
   },
   "source": [
    "### Encoding categorical variables"
   ]
  },
  {
   "cell_type": "markdown",
   "metadata": {},
   "source": [
    "When the data set contains categorical data that we want to use in linear regression, we have to give the categorical variables a numerical encoding. In fact, we have already done so for the month and education columns, which have a natural encoding as nonnegative integers. In the case of education, we must decide how to handle missing values, which occurs in ~4% of records. For now, we just omit those records from the model. Because our goal is to determine the most efficient allocation of the bank's resources, and because only ~4% of records omit education, this is a sensible choice.\n",
    "\n",
    "For other columns like the \"marital\" and the \"\"\\*\\_loan\" columns we will use dummy coding, which introduces new variables the possible values, where the new variables can take the values 0 or 1. If a value is required for the original field (no \"missing\" or \"unknown\" values), then we keep one of the values implicit. It will be represented by having a 0 in every one of the new binary variables. "
   ]
  },
  {
   "cell_type": "code",
   "execution_count": 17,
   "metadata": {
    "execution": {
     "iopub.execute_input": "2022-09-01T18:37:14.719872Z",
     "iopub.status.busy": "2022-09-01T18:37:14.719093Z",
     "iopub.status.idle": "2022-09-01T18:37:14.822858Z",
     "shell.execute_reply": "2022-09-01T18:37:14.821846Z",
     "shell.execute_reply.started": "2022-09-01T18:37:14.719814Z"
    },
    "tags": []
   },
   "outputs": [],
   "source": [
    "from sklearn.model_selection import train_test_split\n",
    "from sklearn.linear_model import LinearRegression"
   ]
  },
  {
   "cell_type": "code",
   "execution_count": 18,
   "metadata": {
    "execution": {
     "iopub.execute_input": "2022-09-01T18:37:14.825523Z",
     "iopub.status.busy": "2022-09-01T18:37:14.824991Z",
     "iopub.status.idle": "2022-09-01T18:37:14.842528Z",
     "shell.execute_reply": "2022-09-01T18:37:14.840620Z",
     "shell.execute_reply.started": "2022-09-01T18:37:14.825490Z"
    }
   },
   "outputs": [],
   "source": [
    "# Probably don't need this list, but we keep it to make the excluded columns explicit.\n",
    "excluded_columns = [\n",
    "    # Too few records have credit in default\n",
    "    'credit_in_default', \n",
    "    # Data for previous campaign is mostly missing, so we use it only for benchmark comparisons\n",
    "    'days_since_previous_campaign_contact', 'previous_contact_count', 'previous_outcome',\n",
    "    # Encoded as `'education_level'`\n",
    "    'education',\n",
    "    # Excluded; see note in data set description.\n",
    "    'contact_duration',\n",
    "    # Variable we wish to predict\n",
    "    'outcome', \n",
    "]\n",
    "\n",
    "# Columns to use as predictors for linear regression.\n",
    "lr_columns = ['age', 'job', 'marital', 'housing_loan', 'personal_loan', 'contact_method', 'contact_month', 'contact_weekday',  'contact_count',  'employment_variation_rate', 'consumer_price_index', 'consumer_confidence_index', 'euribor_3_month_rate', 'employee_count', 'education_level']"
   ]
  },
  {
   "cell_type": "code",
   "execution_count": 19,
   "metadata": {
    "execution": {
     "iopub.execute_input": "2022-09-01T18:37:14.853170Z",
     "iopub.status.busy": "2022-09-01T18:37:14.851118Z",
     "iopub.status.idle": "2022-09-01T18:37:14.894037Z",
     "shell.execute_reply": "2022-09-01T18:37:14.892545Z",
     "shell.execute_reply.started": "2022-09-01T18:37:14.852982Z"
    },
    "tags": []
   },
   "outputs": [],
   "source": [
    "df_lr = df[lr_columns][df['education'].notnull()]\n",
    "df_lr_outcome = df['outcome'][df['education'].notnull()]"
   ]
  },
  {
   "cell_type": "markdown",
   "metadata": {},
   "source": [
    "For columns in which missing data is represented by `np.nan`, the NaN value will become implicit in the simple dummy encoding (`drop_first=false`, `dummy_na=True`). In other columns, we arbitrarily choose the first value to be implicit (`drop_first = True`, `dummy_na=False`)."
   ]
  },
  {
   "cell_type": "code",
   "execution_count": 20,
   "metadata": {
    "execution": {
     "iopub.execute_input": "2022-09-01T18:37:14.896995Z",
     "iopub.status.busy": "2022-09-01T18:37:14.896388Z",
     "iopub.status.idle": "2022-09-01T18:37:14.925161Z",
     "shell.execute_reply": "2022-09-01T18:37:14.923847Z",
     "shell.execute_reply.started": "2022-09-01T18:37:14.896951Z"
    },
    "tags": []
   },
   "outputs": [],
   "source": [
    "# First value is implicit\n",
    "encoded_cols = ['contact_method', 'contact_weekday']\n",
    "df_dummies = pd.get_dummies(df_lr[encoded_cols], drop_first = True, dummy_na=False)"
   ]
  },
  {
   "cell_type": "code",
   "execution_count": 21,
   "metadata": {
    "execution": {
     "iopub.execute_input": "2022-09-01T18:37:14.927310Z",
     "iopub.status.busy": "2022-09-01T18:37:14.926723Z",
     "iopub.status.idle": "2022-09-01T18:37:14.952503Z",
     "shell.execute_reply": "2022-09-01T18:37:14.948957Z",
     "shell.execute_reply.started": "2022-09-01T18:37:14.927275Z"
    },
    "tags": []
   },
   "outputs": [],
   "source": [
    "df_lr = pd.concat([df_lr[[c for c in df_lr.columns if c not in encoded_cols]], df_dummies], axis=1)"
   ]
  },
  {
   "cell_type": "code",
   "execution_count": 22,
   "metadata": {
    "execution": {
     "iopub.execute_input": "2022-09-01T18:37:14.974729Z",
     "iopub.status.busy": "2022-09-01T18:37:14.973543Z",
     "iopub.status.idle": "2022-09-01T18:37:15.032889Z",
     "shell.execute_reply": "2022-09-01T18:37:15.030992Z",
     "shell.execute_reply.started": "2022-09-01T18:37:14.974689Z"
    },
    "tags": []
   },
   "outputs": [],
   "source": [
    "# NaN value is implicit\n",
    "encoded_cols = ['marital', 'job', 'housing_loan', 'personal_loan']\n",
    "df_dummies = pd.get_dummies(df_lr[encoded_cols], drop_first = False, dummy_na=True)"
   ]
  },
  {
   "cell_type": "code",
   "execution_count": 23,
   "metadata": {
    "execution": {
     "iopub.execute_input": "2022-09-01T18:37:15.036223Z",
     "iopub.status.busy": "2022-09-01T18:37:15.034394Z",
     "iopub.status.idle": "2022-09-01T18:37:15.146760Z",
     "shell.execute_reply": "2022-09-01T18:37:15.121602Z",
     "shell.execute_reply.started": "2022-09-01T18:37:15.035513Z"
    },
    "tags": []
   },
   "outputs": [],
   "source": [
    "df_lr = pd.concat([df_lr[[c for c in df_lr.columns if c not in encoded_cols]], df_dummies], axis=1)"
   ]
  },
  {
   "cell_type": "markdown",
   "metadata": {},
   "source": [
    "As NaN values will be implicit, we drop the encoded NaN columns."
   ]
  },
  {
   "cell_type": "code",
   "execution_count": 24,
   "metadata": {
    "execution": {
     "iopub.execute_input": "2022-09-01T18:37:15.162633Z",
     "iopub.status.busy": "2022-09-01T18:37:15.158544Z",
     "iopub.status.idle": "2022-09-01T18:37:15.192672Z",
     "shell.execute_reply": "2022-09-01T18:37:15.191069Z",
     "shell.execute_reply.started": "2022-09-01T18:37:15.162561Z"
    },
    "tags": []
   },
   "outputs": [],
   "source": [
    "df_lr = df_lr[[c for c in df_lr.columns if not c.endswith('_nan')]]"
   ]
  },
  {
   "cell_type": "markdown",
   "metadata": {},
   "source": [
    "Finally, the outcome has values of 'yes' and 'no', which we encode as 1 and 0 respectively."
   ]
  },
  {
   "cell_type": "code",
   "execution_count": 25,
   "metadata": {
    "execution": {
     "iopub.execute_input": "2022-09-01T18:37:15.201021Z",
     "iopub.status.busy": "2022-09-01T18:37:15.200449Z",
     "iopub.status.idle": "2022-09-01T18:37:15.225984Z",
     "shell.execute_reply": "2022-09-01T18:37:15.224248Z",
     "shell.execute_reply.started": "2022-09-01T18:37:15.200975Z"
    },
    "tags": []
   },
   "outputs": [],
   "source": [
    "convert = {'no': 0, 'yes': 1}\n",
    "df_lr_outcome = df_lr_outcome.map(convert)"
   ]
  },
  {
   "cell_type": "markdown",
   "metadata": {
    "tags": []
   },
   "source": [
    "### Training the LR Model"
   ]
  },
  {
   "cell_type": "code",
   "execution_count": 26,
   "metadata": {
    "execution": {
     "iopub.execute_input": "2022-09-01T18:37:15.233980Z",
     "iopub.status.busy": "2022-09-01T18:37:15.233326Z",
     "iopub.status.idle": "2022-09-01T18:37:15.269338Z",
     "shell.execute_reply": "2022-09-01T18:37:15.268329Z",
     "shell.execute_reply.started": "2022-09-01T18:37:15.233933Z"
    },
    "tags": []
   },
   "outputs": [],
   "source": [
    "df_lr_train, df_lr_test, df_lr_outcome_train, df_lr_outcome_test = train_test_split(df_lr, df_lr_outcome, test_size=0.25, random_state=42)"
   ]
  },
  {
   "cell_type": "code",
   "execution_count": 27,
   "metadata": {
    "execution": {
     "iopub.execute_input": "2022-09-01T18:37:15.274733Z",
     "iopub.status.busy": "2022-09-01T18:37:15.273868Z",
     "iopub.status.idle": "2022-09-01T18:37:15.373483Z",
     "shell.execute_reply": "2022-09-01T18:37:15.371996Z",
     "shell.execute_reply.started": "2022-09-01T18:37:15.274686Z"
    },
    "tags": []
   },
   "outputs": [
    {
     "data": {
      "text/html": [
       "<style>#sk-container-id-1 {color: black;background-color: white;}#sk-container-id-1 pre{padding: 0;}#sk-container-id-1 div.sk-toggleable {background-color: white;}#sk-container-id-1 label.sk-toggleable__label {cursor: pointer;display: block;width: 100%;margin-bottom: 0;padding: 0.3em;box-sizing: border-box;text-align: center;}#sk-container-id-1 label.sk-toggleable__label-arrow:before {content: \"▸\";float: left;margin-right: 0.25em;color: #696969;}#sk-container-id-1 label.sk-toggleable__label-arrow:hover:before {color: black;}#sk-container-id-1 div.sk-estimator:hover label.sk-toggleable__label-arrow:before {color: black;}#sk-container-id-1 div.sk-toggleable__content {max-height: 0;max-width: 0;overflow: hidden;text-align: left;background-color: #f0f8ff;}#sk-container-id-1 div.sk-toggleable__content pre {margin: 0.2em;color: black;border-radius: 0.25em;background-color: #f0f8ff;}#sk-container-id-1 input.sk-toggleable__control:checked~div.sk-toggleable__content {max-height: 200px;max-width: 100%;overflow: auto;}#sk-container-id-1 input.sk-toggleable__control:checked~label.sk-toggleable__label-arrow:before {content: \"▾\";}#sk-container-id-1 div.sk-estimator input.sk-toggleable__control:checked~label.sk-toggleable__label {background-color: #d4ebff;}#sk-container-id-1 div.sk-label input.sk-toggleable__control:checked~label.sk-toggleable__label {background-color: #d4ebff;}#sk-container-id-1 input.sk-hidden--visually {border: 0;clip: rect(1px 1px 1px 1px);clip: rect(1px, 1px, 1px, 1px);height: 1px;margin: -1px;overflow: hidden;padding: 0;position: absolute;width: 1px;}#sk-container-id-1 div.sk-estimator {font-family: monospace;background-color: #f0f8ff;border: 1px dotted black;border-radius: 0.25em;box-sizing: border-box;margin-bottom: 0.5em;}#sk-container-id-1 div.sk-estimator:hover {background-color: #d4ebff;}#sk-container-id-1 div.sk-parallel-item::after {content: \"\";width: 100%;border-bottom: 1px solid gray;flex-grow: 1;}#sk-container-id-1 div.sk-label:hover label.sk-toggleable__label {background-color: #d4ebff;}#sk-container-id-1 div.sk-serial::before {content: \"\";position: absolute;border-left: 1px solid gray;box-sizing: border-box;top: 0;bottom: 0;left: 50%;z-index: 0;}#sk-container-id-1 div.sk-serial {display: flex;flex-direction: column;align-items: center;background-color: white;padding-right: 0.2em;padding-left: 0.2em;position: relative;}#sk-container-id-1 div.sk-item {position: relative;z-index: 1;}#sk-container-id-1 div.sk-parallel {display: flex;align-items: stretch;justify-content: center;background-color: white;position: relative;}#sk-container-id-1 div.sk-item::before, #sk-container-id-1 div.sk-parallel-item::before {content: \"\";position: absolute;border-left: 1px solid gray;box-sizing: border-box;top: 0;bottom: 0;left: 50%;z-index: -1;}#sk-container-id-1 div.sk-parallel-item {display: flex;flex-direction: column;z-index: 1;position: relative;background-color: white;}#sk-container-id-1 div.sk-parallel-item:first-child::after {align-self: flex-end;width: 50%;}#sk-container-id-1 div.sk-parallel-item:last-child::after {align-self: flex-start;width: 50%;}#sk-container-id-1 div.sk-parallel-item:only-child::after {width: 0;}#sk-container-id-1 div.sk-dashed-wrapped {border: 1px dashed gray;margin: 0 0.4em 0.5em 0.4em;box-sizing: border-box;padding-bottom: 0.4em;background-color: white;}#sk-container-id-1 div.sk-label label {font-family: monospace;font-weight: bold;display: inline-block;line-height: 1.2em;}#sk-container-id-1 div.sk-label-container {text-align: center;}#sk-container-id-1 div.sk-container {/* jupyter's `normalize.less` sets `[hidden] { display: none; }` but bootstrap.min.css set `[hidden] { display: none !important; }` so we also need the `!important` here to be able to override the default hidden behavior on the sphinx rendered scikit-learn.org. See: https://github.com/scikit-learn/scikit-learn/issues/21755 */display: inline-block !important;position: relative;}#sk-container-id-1 div.sk-text-repr-fallback {display: none;}</style><div id=\"sk-container-id-1\" class=\"sk-top-container\"><div class=\"sk-text-repr-fallback\"><pre>LinearRegression()</pre><b>In a Jupyter environment, please rerun this cell to show the HTML representation or trust the notebook. <br />On GitHub, the HTML representation is unable to render, please try loading this page with nbviewer.org.</b></div><div class=\"sk-container\" hidden><div class=\"sk-item\"><div class=\"sk-estimator sk-toggleable\"><input class=\"sk-toggleable__control sk-hidden--visually\" id=\"sk-estimator-id-1\" type=\"checkbox\" checked><label for=\"sk-estimator-id-1\" class=\"sk-toggleable__label sk-toggleable__label-arrow\">LinearRegression</label><div class=\"sk-toggleable__content\"><pre>LinearRegression()</pre></div></div></div></div></div>"
      ],
      "text/plain": [
       "LinearRegression()"
      ]
     },
     "execution_count": 27,
     "metadata": {},
     "output_type": "execute_result"
    }
   ],
   "source": [
    "lr_model = LinearRegression()\n",
    "lr_model.fit(df_lr_train, df_lr_outcome_train)"
   ]
  },
  {
   "cell_type": "markdown",
   "metadata": {
    "tags": []
   },
   "source": [
    "### Evaluating the Performance of the LR Model"
   ]
  },
  {
   "cell_type": "markdown",
   "metadata": {},
   "source": [
    "In the following we evaluate the performance of the LR model on the test set."
   ]
  },
  {
   "cell_type": "markdown",
   "metadata": {},
   "source": [
    "> The coefficient of determination $R^2$ is defined as $R^2 = (1 - \\frac{u}{v})$, where is the residual sum of squares `((y_true - y_pred)** 2).sum()` and is the total sum of squares `((y_true - y_true.mean()) ** 2).sum()`.\n",
    "\n",
    "The `score()` function computes $R^2$:"
   ]
  },
  {
   "cell_type": "code",
   "execution_count": 28,
   "metadata": {
    "execution": {
     "iopub.execute_input": "2022-09-01T18:37:15.377258Z",
     "iopub.status.busy": "2022-09-01T18:37:15.375182Z",
     "iopub.status.idle": "2022-09-01T18:37:15.402949Z",
     "shell.execute_reply": "2022-09-01T18:37:15.399399Z",
     "shell.execute_reply.started": "2022-09-01T18:37:15.377200Z"
    },
    "tags": []
   },
   "outputs": [
    {
     "data": {
      "text/plain": [
       "0.16641426355941735"
      ]
     },
     "execution_count": 28,
     "metadata": {},
     "output_type": "execute_result"
    }
   ],
   "source": [
    "lr_model.score(df_lr_test, df_lr_outcome_test)"
   ]
  },
  {
   "cell_type": "markdown",
   "metadata": {},
   "source": [
    "We transform the real-valued response variable into a 'yes'/'no' response (encoded as 1 and 0 as before):"
   ]
  },
  {
   "cell_type": "code",
   "execution_count": 29,
   "metadata": {
    "execution": {
     "iopub.execute_input": "2022-09-01T18:37:15.406291Z",
     "iopub.status.busy": "2022-09-01T18:37:15.405569Z",
     "iopub.status.idle": "2022-09-01T18:37:15.439854Z",
     "shell.execute_reply": "2022-09-01T18:37:15.438114Z",
     "shell.execute_reply.started": "2022-09-01T18:37:15.406241Z"
    },
    "tags": []
   },
   "outputs": [],
   "source": [
    "lr_predicted = np.round(lr_model.predict(df_lr_test)).astype(int)"
   ]
  },
  {
   "cell_type": "code",
   "execution_count": 30,
   "metadata": {
    "execution": {
     "iopub.execute_input": "2022-09-01T18:37:15.448472Z",
     "iopub.status.busy": "2022-09-01T18:37:15.444597Z",
     "iopub.status.idle": "2022-09-01T18:37:15.460369Z",
     "shell.execute_reply": "2022-09-01T18:37:15.458933Z",
     "shell.execute_reply.started": "2022-09-01T18:37:15.448392Z"
    },
    "tags": []
   },
   "outputs": [],
   "source": [
    "lr_performance = pd.DataFrame(data={'predicted': lr_predicted, 'outcome': df_lr_outcome_test})"
   ]
  },
  {
   "cell_type": "markdown",
   "metadata": {},
   "source": [
    "We compute the confusion matrix and performance metrics."
   ]
  },
  {
   "cell_type": "code",
   "execution_count": 31,
   "metadata": {
    "execution": {
     "iopub.execute_input": "2022-09-01T18:37:15.469296Z",
     "iopub.status.busy": "2022-09-01T18:37:15.468394Z",
     "iopub.status.idle": "2022-09-01T18:37:15.496397Z",
     "shell.execute_reply": "2022-09-01T18:37:15.493640Z",
     "shell.execute_reply.started": "2022-09-01T18:37:15.469241Z"
    },
    "jupyter": {
     "source_hidden": true
    },
    "tags": []
   },
   "outputs": [
    {
     "data": {
      "text/markdown": [
       "|  | Actual Subscriber | Actual Nonsubscriber | Total |\n",
       "|-----:|:---:|:----:|:----|\n",
       "| Predicted Subscriber | TP = 151 | FP = 112 | TP + FP = 263 |\n",
       "| Predicted Nonsubscriber | FN = 957 | TN = 8645 | FN + TN = 9602 |\n",
       "| Total | TP + FN=1108 | FP + TN = 8757 | 9865 |"
      ],
      "text/plain": [
       "<IPython.core.display.Markdown object>"
      ]
     },
     "metadata": {},
     "output_type": "display_data"
    },
    {
     "data": {
      "text/markdown": [
       "|  | &nbsp;&nbsp;&nbsp;&nbsp;&nbsp;&nbsp;&nbsp;&nbsp;&nbsp;&nbsp;&nbsp;&nbsp;&nbsp;&nbsp;&nbsp;&nbsp;&nbsp;&nbsp;&nbsp;&nbsp;&nbsp;&nbsp;&nbsp;&nbsp;&nbsp;&nbsp;&nbsp;&nbsp;&nbsp;&nbsp;&nbsp;&nbsp;&nbsp;&nbsp;&nbsp;&nbsp;&nbsp;&nbsp;&nbsp;|\n",
       "|-----:|:---|\n",
       "| Recall | ${ {\\mathrm {TP} } \\over {\\mathrm {TP} +\\mathrm {FN} }}=$ 13.63% |\n",
       "| Selectivity | ${ {\\mathrm {TN} } \\over {\\mathrm {TN} +\\mathrm {FP} }}=$ 98.72% |"
      ],
      "text/plain": [
       "<IPython.core.display.Markdown object>"
      ]
     },
     "metadata": {},
     "output_type": "display_data"
    }
   ],
   "source": [
    "confusion_matrix_md(lr_predicted, df_lr_outcome_test)\n",
    "recall_selectivity_md(lr_predicted, df_lr_outcome_test)"
   ]
  },
  {
   "cell_type": "markdown",
   "metadata": {},
   "source": [
    "From the matrix we can see that while we only targeted 263/9865 = 2.66% of the customers, we were able to capture 151/1108 = 13.63% of the theoretical maximum number of subscribers. Whether or not this trade-off is worth it cannot be determined, but a recall of only 13.63% is not particularly impressive."
   ]
  },
  {
   "cell_type": "markdown",
   "metadata": {},
   "source": [
    "## Random Forest Classifier"
   ]
  },
  {
   "cell_type": "markdown",
   "metadata": {},
   "source": [
    "A random forest classifier builds many [decision trees](https://en.wikipedia.org/wiki/Decision_tree_learning) on fixed random subsets of the features during trainging and, to predict an outcome, has those trees \"vote\" on the predicted outcome. This generally performs better than a decision tree and mitigates the decision tree's tendancy to overfit the training data. Random forests inherit the advantages of Decision trees: they are simple, easy to understand, and allow for inspection of an explanation for why a given result was obtained. \n",
    "\n",
    "From an implementation perspective, random forests can work with both numeric and categorical features, unlike linear regression, making data preperation simpler. Another advantage over linear regression is that random forests have no linearity assumption."
   ]
  },
  {
   "cell_type": "markdown",
   "metadata": {
    "jp-MarkdownHeadingCollapsed": true,
    "tags": []
   },
   "source": [
    "### Training the Random Forest Model"
   ]
  },
  {
   "cell_type": "code",
   "execution_count": 32,
   "metadata": {
    "execution": {
     "iopub.execute_input": "2022-09-01T18:37:15.503468Z",
     "iopub.status.busy": "2022-09-01T18:37:15.502655Z",
     "iopub.status.idle": "2022-09-01T18:37:15.790793Z",
     "shell.execute_reply": "2022-09-01T18:37:15.788338Z",
     "shell.execute_reply.started": "2022-09-01T18:37:15.503417Z"
    },
    "tags": []
   },
   "outputs": [
    {
     "name": "stdout",
     "output_type": "stream",
     "text": [
      "Checking whether there is an H2O instance running at http://localhost:54321 . connected.\n"
     ]
    },
    {
     "data": {
      "text/html": [
       "<div style=\"overflow:auto\"><table style=\"width:50%\"><tr><td>H2O_cluster_uptime:</td>\n",
       "<td>1 hour 21 mins</td></tr>\n",
       "<tr><td>H2O_cluster_timezone:</td>\n",
       "<td>America/New_York</td></tr>\n",
       "<tr><td>H2O_data_parsing_timezone:</td>\n",
       "<td>UTC</td></tr>\n",
       "<tr><td>H2O_cluster_version:</td>\n",
       "<td>3.36.1.4</td></tr>\n",
       "<tr><td>H2O_cluster_version_age:</td>\n",
       "<td>28 days, 21 hours and 16 minutes </td></tr>\n",
       "<tr><td>H2O_cluster_name:</td>\n",
       "<td>rljacobson</td></tr>\n",
       "<tr><td>H2O_cluster_total_nodes:</td>\n",
       "<td>1</td></tr>\n",
       "<tr><td>H2O_cluster_free_memory:</td>\n",
       "<td>3.234 Gb</td></tr>\n",
       "<tr><td>H2O_cluster_total_cores:</td>\n",
       "<td>4</td></tr>\n",
       "<tr><td>H2O_cluster_allowed_cores:</td>\n",
       "<td>4</td></tr>\n",
       "<tr><td>H2O_cluster_status:</td>\n",
       "<td>locked, healthy</td></tr>\n",
       "<tr><td>H2O_connection_url:</td>\n",
       "<td>http://localhost:54321</td></tr>\n",
       "<tr><td>H2O_connection_proxy:</td>\n",
       "<td>{\"http\": null, \"https\": null}</td></tr>\n",
       "<tr><td>H2O_internal_security:</td>\n",
       "<td>False</td></tr>\n",
       "<tr><td>Python_version:</td>\n",
       "<td>3.10.5 final</td></tr></table></div>"
      ],
      "text/plain": [
       "--------------------------  --------------------------------\n",
       "H2O_cluster_uptime:         1 hour 21 mins\n",
       "H2O_cluster_timezone:       America/New_York\n",
       "H2O_data_parsing_timezone:  UTC\n",
       "H2O_cluster_version:        3.36.1.4\n",
       "H2O_cluster_version_age:    28 days, 21 hours and 16 minutes\n",
       "H2O_cluster_name:           rljacobson\n",
       "H2O_cluster_total_nodes:    1\n",
       "H2O_cluster_free_memory:    3.234 Gb\n",
       "H2O_cluster_total_cores:    4\n",
       "H2O_cluster_allowed_cores:  4\n",
       "H2O_cluster_status:         locked, healthy\n",
       "H2O_connection_url:         http://localhost:54321\n",
       "H2O_connection_proxy:       {\"http\": null, \"https\": null}\n",
       "H2O_internal_security:      False\n",
       "Python_version:             3.10.5 final\n",
       "--------------------------  --------------------------------"
      ]
     },
     "metadata": {},
     "output_type": "display_data"
    }
   ],
   "source": [
    "# SciKit-Learn's implementation of random forests cannot handle categorical data.\n",
    "# from sklearn.ensemble import RandomForestClassifier\n",
    "\n",
    "import h2o\n",
    "from h2o.estimators import H2ORandomForestEstimator\n",
    "h2o.init();"
   ]
  },
  {
   "cell_type": "code",
   "execution_count": 33,
   "metadata": {
    "execution": {
     "iopub.execute_input": "2022-09-01T18:37:15.794336Z",
     "iopub.status.busy": "2022-09-01T18:37:15.793246Z",
     "iopub.status.idle": "2022-09-01T18:37:17.243803Z",
     "shell.execute_reply": "2022-09-01T18:37:17.242649Z",
     "shell.execute_reply.started": "2022-09-01T18:37:15.794285Z"
    },
    "tags": []
   },
   "outputs": [
    {
     "name": "stdout",
     "output_type": "stream",
     "text": [
      "Parse progress: |████████████████████████████████████████████████████████████████| (done) 100%\n"
     ]
    }
   ],
   "source": [
    "# H2O wants to use its native H2OFrame instead of pandas.DataFrame.\n",
    "\n",
    "# Features we use for random forests\n",
    "rf_columns = [\n",
    "    'age',\n",
    "    'job',\n",
    "    'marital',\n",
    "    'education_level',\n",
    "    'housing_loan',\n",
    "    'personal_loan',\n",
    "    'contact_method',\n",
    "    'contact_month',\n",
    "    'contact_weekday',\n",
    "    'contact_count',\n",
    "    'employment_variation_rate',\n",
    "    'consumer_price_index',\n",
    "    'consumer_confidence_index',\n",
    "    'euribor_3_month_rate',\n",
    "    'employee_count',\n",
    "    'outcome'\n",
    "]\n",
    "df_rf = h2o.H2OFrame(df[rf_columns])"
   ]
  },
  {
   "cell_type": "code",
   "execution_count": 34,
   "metadata": {
    "execution": {
     "iopub.execute_input": "2022-09-01T18:37:17.247735Z",
     "iopub.status.busy": "2022-09-01T18:37:17.246026Z",
     "iopub.status.idle": "2022-09-01T18:37:17.262876Z",
     "shell.execute_reply": "2022-09-01T18:37:17.256961Z",
     "shell.execute_reply.started": "2022-09-01T18:37:17.247683Z"
    },
    "tags": []
   },
   "outputs": [],
   "source": [
    "df_rf['outcome'] = df_rf['outcome'].asfactor() # set the response as a factor\n",
    "rf_predictor_cols = rf_columns[:-1] # The response is the last column. Exclude it from predictors.\n",
    "rf_response_cols = 'outcome'"
   ]
  },
  {
   "cell_type": "code",
   "execution_count": 35,
   "metadata": {
    "execution": {
     "iopub.execute_input": "2022-09-01T18:37:17.268217Z",
     "iopub.status.busy": "2022-09-01T18:37:17.267087Z",
     "iopub.status.idle": "2022-09-01T18:37:17.589494Z",
     "shell.execute_reply": "2022-09-01T18:37:17.587750Z",
     "shell.execute_reply.started": "2022-09-01T18:37:17.268167Z"
    },
    "tags": []
   },
   "outputs": [],
   "source": [
    "# Split the dataset into a train and valid set:\n",
    "df_rf_train, df_rf_valid = df_rf.split_frame(ratios=[.75], seed=42) # Give random state for reproducibility"
   ]
  },
  {
   "cell_type": "code",
   "execution_count": 36,
   "metadata": {
    "execution": {
     "iopub.execute_input": "2022-09-01T18:37:17.592464Z",
     "iopub.status.busy": "2022-09-01T18:37:17.591543Z",
     "iopub.status.idle": "2022-09-01T18:37:17.615167Z",
     "shell.execute_reply": "2022-09-01T18:37:17.612972Z",
     "shell.execute_reply.started": "2022-09-01T18:37:17.592416Z"
    },
    "tags": []
   },
   "outputs": [],
   "source": [
    "rf_model = H2ORandomForestEstimator(\n",
    "    balance_classes=True, # Some feature classes are very unbalanced; improves recall\n",
    "    ntrees=200,\n",
    "    max_depth=0, # Default is 20\n",
    "    calibrate_model=True,    # Tends to improve recall on this data set\n",
    "    calibration_frame=df_rf_valid,\n",
    "    binomial_double_trees=True # Suitable for binary classification\n",
    ")"
   ]
  },
  {
   "cell_type": "code",
   "execution_count": 37,
   "metadata": {
    "execution": {
     "iopub.execute_input": "2022-09-01T18:37:17.622152Z",
     "iopub.status.busy": "2022-09-01T18:37:17.619740Z",
     "iopub.status.idle": "2022-09-01T18:38:25.703844Z",
     "shell.execute_reply": "2022-09-01T18:38:25.701118Z",
     "shell.execute_reply.started": "2022-09-01T18:37:17.622100Z"
    },
    "tags": []
   },
   "outputs": [
    {
     "name": "stdout",
     "output_type": "stream",
     "text": [
      "drf Model Build progress: |██████████████████████████████████████████████████████| (done) 100%\n"
     ]
    }
   ],
   "source": [
    "rf_model.train(\n",
    "    x=rf_predictor_cols,\n",
    "    y=rf_response_cols,\n",
    "    training_frame=df_rf_train,\n",
    "    validation_frame=df_rf_valid\n",
    ");"
   ]
  },
  {
   "cell_type": "markdown",
   "metadata": {},
   "source": [
    "### Evaluating the Performance of the Random Forest Model"
   ]
  },
  {
   "cell_type": "code",
   "execution_count": 38,
   "metadata": {
    "execution": {
     "iopub.execute_input": "2022-09-01T18:38:25.713568Z",
     "iopub.status.busy": "2022-09-01T18:38:25.709903Z",
     "iopub.status.idle": "2022-09-01T18:38:29.709994Z",
     "shell.execute_reply": "2022-09-01T18:38:29.708551Z",
     "shell.execute_reply.started": "2022-09-01T18:38:25.713516Z"
    },
    "tags": []
   },
   "outputs": [
    {
     "name": "stdout",
     "output_type": "stream",
     "text": [
      "drf prediction progress: |███████████████████████████████████████████████████████| (done) 100%\n"
     ]
    }
   ],
   "source": [
    "# Compute predictions on the test set\n",
    "df_rf_prediction = rf_model.predict(df_rf_valid).as_data_frame()"
   ]
  },
  {
   "cell_type": "code",
   "execution_count": 39,
   "metadata": {
    "execution": {
     "iopub.execute_input": "2022-09-01T18:38:29.711941Z",
     "iopub.status.busy": "2022-09-01T18:38:29.711222Z",
     "iopub.status.idle": "2022-09-01T18:38:29.823684Z",
     "shell.execute_reply": "2022-09-01T18:38:29.820952Z",
     "shell.execute_reply.started": "2022-09-01T18:38:29.711877Z"
    },
    "tags": []
   },
   "outputs": [
    {
     "data": {
      "text/markdown": [
       "|  | Actual Subscriber | Actual Nonsubscriber | Total |\n",
       "|-----:|:---:|:----:|:----|\n",
       "| Predicted Subscriber | TP = 635 | FP = 941 | TP + FP = 1576 |\n",
       "| Predicted Nonsubscriber | FN = 564 | TN = 8086 | FN + TN = 8650 |\n",
       "| Total | TP + FN=1199 | FP + TN = 9027 | 10226 |"
      ],
      "text/plain": [
       "<IPython.core.display.Markdown object>"
      ]
     },
     "metadata": {},
     "output_type": "display_data"
    }
   ],
   "source": [
    "df_rf_test = df_rf_valid.as_data_frame()\n",
    "confusion_matrix_md(df_rf_prediction['predict'], df_rf_test['outcome'])"
   ]
  },
  {
   "cell_type": "code",
   "execution_count": 40,
   "metadata": {
    "execution": {
     "iopub.execute_input": "2022-09-01T18:38:29.837170Z",
     "iopub.status.busy": "2022-09-01T18:38:29.835824Z",
     "iopub.status.idle": "2022-09-01T18:38:29.892123Z",
     "shell.execute_reply": "2022-09-01T18:38:29.890659Z",
     "shell.execute_reply.started": "2022-09-01T18:38:29.837119Z"
    },
    "tags": []
   },
   "outputs": [
    {
     "data": {
      "text/markdown": [
       "|  | &nbsp;&nbsp;&nbsp;&nbsp;&nbsp;&nbsp;&nbsp;&nbsp;&nbsp;&nbsp;&nbsp;&nbsp;&nbsp;&nbsp;&nbsp;&nbsp;&nbsp;&nbsp;&nbsp;&nbsp;&nbsp;&nbsp;&nbsp;&nbsp;&nbsp;&nbsp;&nbsp;&nbsp;&nbsp;&nbsp;&nbsp;&nbsp;&nbsp;&nbsp;&nbsp;&nbsp;&nbsp;&nbsp;&nbsp;|\n",
       "|-----:|:---|\n",
       "| Recall | ${ {\\mathrm {TP} } \\over {\\mathrm {TP} +\\mathrm {FN} }}=$ 52.96% |\n",
       "| Selectivity | ${ {\\mathrm {TN} } \\over {\\mathrm {TN} +\\mathrm {FP} }}=$ 89.58% |"
      ],
      "text/plain": [
       "<IPython.core.display.Markdown object>"
      ]
     },
     "metadata": {},
     "output_type": "display_data"
    }
   ],
   "source": [
    "recall_selectivity_md(df_rf_prediction['predict'], df_rf_test['outcome'])"
   ]
  },
  {
   "cell_type": "markdown",
   "metadata": {},
   "source": [
    "From the matrix we can see that while we only targeted 1576/10226 = 15.41% of the customers, we were able to capture 635/1199 = 52.96% of the theoretical maximum number of subscribers. "
   ]
  },
  {
   "cell_type": "markdown",
   "metadata": {},
   "source": [
    "## Neural Network Classifier"
   ]
  },
  {
   "cell_type": "code",
   "execution_count": 46,
   "metadata": {
    "execution": {
     "iopub.execute_input": "2022-09-01T18:54:26.260285Z",
     "iopub.status.busy": "2022-09-01T18:54:26.259174Z",
     "iopub.status.idle": "2022-09-01T18:54:26.269987Z",
     "shell.execute_reply": "2022-09-01T18:54:26.268163Z",
     "shell.execute_reply.started": "2022-09-01T18:54:26.260226Z"
    },
    "tags": []
   },
   "outputs": [],
   "source": [
    "# ToDo"
   ]
  },
  {
   "cell_type": "code",
   "execution_count": null,
   "metadata": {},
   "outputs": [],
   "source": []
  }
 ],
 "metadata": {
  "kernelspec": {
   "display_name": "Python 3 (ipykernel)",
   "language": "python",
   "name": "python3"
  },
  "language_info": {
   "codemirror_mode": {
    "name": "ipython",
    "version": 3
   },
   "file_extension": ".py",
   "mimetype": "text/x-python",
   "name": "python",
   "nbconvert_exporter": "python",
   "pygments_lexer": "ipython3",
   "version": "3.10.5"
  }
 },
 "nbformat": 4,
 "nbformat_minor": 4
}
