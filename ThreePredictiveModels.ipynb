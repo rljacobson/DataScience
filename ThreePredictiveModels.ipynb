{
 "cells": [
  {
   "cell_type": "markdown",
   "metadata": {
    "jp-MarkdownHeadingCollapsed": true,
    "tags": []
   },
   "source": [
    "# Imports"
   ]
  },
  {
   "cell_type": "code",
   "execution_count": 1,
   "metadata": {
    "execution": {
     "iopub.execute_input": "2022-09-06T16:25:10.767898Z",
     "iopub.status.busy": "2022-09-06T16:25:10.766539Z",
     "iopub.status.idle": "2022-09-06T16:25:14.983810Z",
     "shell.execute_reply": "2022-09-06T16:25:14.981873Z",
     "shell.execute_reply.started": "2022-09-06T16:25:10.767766Z"
    },
    "pycharm": {
     "name": "#%%\n"
    },
    "tags": []
   },
   "outputs": [],
   "source": [
    "import os\n",
    "\n",
    "import numpy as np\n",
    "import pandas as pd\n",
    "\n",
    "# Commented out because Modin is not compatible with Lux.\n",
    "# import modin.pandas as pd\n",
    "# from distributed import Client\n",
    "# client = Client() # Initialize for Dask, which is used by modin.\n",
    "\n",
    "import lux\n",
    "\n",
    "# The `display` function is what is used behind the scenes to format raw data for display in a notebook.\n",
    "from IPython.display import display, Markdown\n",
    "\n",
    "# Needed if I want fine-grained access to modify plots.\n",
    "import matplotlib.pyplot as plt"
   ]
  },
  {
   "cell_type": "markdown",
   "metadata": {
    "jupyter": {
     "outputs_hidden": false
    },
    "pycharm": {
     "name": "#%%\n"
    },
    "tags": []
   },
   "source": [
    "# Data Set Description"
   ]
  },
  {
   "cell_type": "markdown",
   "metadata": {
    "jupyter": {
     "outputs_hidden": false
    },
    "pycharm": {
     "name": "#%%\n"
    },
    "tags": []
   },
   "source": [
    "For a formatted version of the data set description from the [source website](https://archive.ics.uci.edu/ml/datasets/Bank+Marketing), see [Data Set Description.md](Data Set Description.md)."
   ]
  },
  {
   "cell_type": "markdown",
   "metadata": {
    "tags": []
   },
   "source": [
    "# Data import and cleaning"
   ]
  },
  {
   "cell_type": "markdown",
   "metadata": {},
   "source": [
    "Boilerplate to read in the data and display its list of columns."
   ]
  },
  {
   "cell_type": "code",
   "execution_count": 45,
   "metadata": {
    "execution": {
     "iopub.execute_input": "2022-09-06T18:14:38.781243Z",
     "iopub.status.busy": "2022-09-06T18:14:38.779493Z",
     "iopub.status.idle": "2022-09-06T18:14:38.945294Z",
     "shell.execute_reply": "2022-09-06T18:14:38.943141Z",
     "shell.execute_reply.started": "2022-09-06T18:14:38.781158Z"
    },
    "tags": []
   },
   "outputs": [],
   "source": [
    "data_path = 'bank-additional/bank-additional-full.csv'\n",
    "if not os.path.exists(data_path):\n",
    "    print(f'ERROR: Cannot find file {data_path}')\n",
    "\n",
    "df = pd.read_csv(data_path, sep=';')"
   ]
  },
  {
   "cell_type": "markdown",
   "metadata": {
    "tags": []
   },
   "source": [
    "## Inspect & Rename columns/fields"
   ]
  },
  {
   "cell_type": "markdown",
   "metadata": {},
   "source": [
    "What data type did each column come in as?"
   ]
  },
  {
   "cell_type": "code",
   "execution_count": 3,
   "metadata": {
    "execution": {
     "iopub.execute_input": "2022-09-06T16:25:15.271466Z",
     "iopub.status.busy": "2022-09-06T16:25:15.267046Z",
     "iopub.status.idle": "2022-09-06T16:25:15.301703Z",
     "shell.execute_reply": "2022-09-06T16:25:15.300174Z",
     "shell.execute_reply.started": "2022-09-06T16:25:15.271407Z"
    },
    "tags": []
   },
   "outputs": [
    {
     "name": "stdout",
     "output_type": "stream",
     "text": [
      "age                 int64\n",
      "job                object\n",
      "marital            object\n",
      "education          object\n",
      "default            object\n",
      "housing            object\n",
      "loan               object\n",
      "contact            object\n",
      "month              object\n",
      "day_of_week        object\n",
      "duration            int64\n",
      "campaign            int64\n",
      "pdays               int64\n",
      "previous            int64\n",
      "poutcome           object\n",
      "emp.var.rate      float64\n",
      "cons.price.idx    float64\n",
      "cons.conf.idx     float64\n",
      "euribor3m         float64\n",
      "nr.employed       float64\n",
      "y                  object\n",
      "dtype: object\n"
     ]
    }
   ],
   "source": [
    "df.dtypes"
   ]
  },
  {
   "cell_type": "markdown",
   "metadata": {},
   "source": [
    "Let's give some of these columns better names.\n",
    " * The outcome variable is called \"y\", which is meaningless. Let's call it \"output\".\n",
    " * Likewise, the column named \"default\" reports whether the person has any credit in default.\n",
    " * Both \"housing\" and \"loan\" refer to a loan, housing loan and personal loan respectively. \n",
    " * Let's indicate which columns are associated with contact during the current campaign and which with the previous campaign.\n",
    " * The \"campaign\" column reports how many times the person was contacted for this current campaign.\n",
    " * etc."
   ]
  },
  {
   "cell_type": "code",
   "execution_count": 46,
   "metadata": {
    "execution": {
     "iopub.execute_input": "2022-09-06T18:14:46.330014Z",
     "iopub.status.busy": "2022-09-06T18:14:46.329406Z",
     "iopub.status.idle": "2022-09-06T18:14:46.344997Z",
     "shell.execute_reply": "2022-09-06T18:14:46.342857Z",
     "shell.execute_reply.started": "2022-09-06T18:14:46.329968Z"
    },
    "tags": []
   },
   "outputs": [],
   "source": [
    "df.rename(\n",
    "    inplace=True, \n",
    "    columns={\n",
    "        # Customer info\n",
    "        'y':'outcome', \n",
    "        'default': 'credit_in_default', \n",
    "        'housing': 'housing_loan', \n",
    "        'loan':    'personal_loan', \n",
    "        \n",
    "        # Specific to this campaign\n",
    "        'contact':     'contact_method',\n",
    "        'month':       'contact_month',\n",
    "        'day_of_week': 'contact_weekday',\n",
    "        'duration':    'contact_duration', # Do not use for prediction. See data description.\n",
    "        'campaign':    'contact_count',    # For this campaign only\n",
    "        # Regarding previous campaign\n",
    "        'pdays':       'days_since_previous_campaign_contact',\n",
    "        'previous':    'previous_contact_count', # Count of times contacted before the current campaign.\n",
    "        'poutcome':    'previous_outcome',       # Outcome of previous campaign.\n",
    "        \n",
    "        # Social and Economic data\n",
    "        'emp.var.rate':   'employment_variation_rate', # Quarterly indicator -- for what quarter?\n",
    "        'cons.price.idx': 'consumer_price_index',      # Monthly indicator -- for what month?\n",
    "        'cons.conf.idx': 'consumer_confidence_index',  # Monthly indicator -- for what month?\n",
    "        'euribor3m':     'euribor_3_month_rate',       # Daily indicator -- for what day?\n",
    "        'nr.employed':   'employee_count',             # What is this?\n",
    "    }\n",
    ")"
   ]
  },
  {
   "cell_type": "markdown",
   "metadata": {
    "tags": []
   },
   "source": [
    "## Inspect values to understand data set"
   ]
  },
  {
   "cell_type": "markdown",
   "metadata": {
    "tags": []
   },
   "source": [
    "### Are there any missing values?"
   ]
  },
  {
   "cell_type": "markdown",
   "metadata": {},
   "source": [
    "Several columns have a special value that is semantically equivalent to `NaN`/`Null`, but do any of the columns in any of the rows actually contain `NaN`/`Null`?"
   ]
  },
  {
   "cell_type": "code",
   "execution_count": 5,
   "metadata": {
    "execution": {
     "iopub.execute_input": "2022-09-06T16:25:15.340503Z",
     "iopub.status.busy": "2022-09-06T16:25:15.336857Z",
     "iopub.status.idle": "2022-09-06T16:25:15.453153Z",
     "shell.execute_reply": "2022-09-06T16:25:15.449309Z",
     "shell.execute_reply.started": "2022-09-06T16:25:15.340447Z"
    },
    "tags": []
   },
   "outputs": [
    {
     "data": {
      "text/plain": [
       "0"
      ]
     },
     "execution_count": 5,
     "metadata": {},
     "output_type": "execute_result"
    }
   ],
   "source": [
    "len(df[df.isnull().any(axis=1)])"
   ]
  },
  {
   "cell_type": "markdown",
   "metadata": {},
   "source": [
    "No `NaN`/`Null` values. In some cases, having `NaN`/`Null` values is convenient for the purposes of encoding. We will convert the semantically equivalent special values to `NaN`."
   ]
  },
  {
   "cell_type": "code",
   "execution_count": 6,
   "metadata": {
    "execution": {
     "iopub.execute_input": "2022-09-06T16:25:15.461887Z",
     "iopub.status.busy": "2022-09-06T16:25:15.457370Z",
     "iopub.status.idle": "2022-09-06T16:25:15.617890Z",
     "shell.execute_reply": "2022-09-06T16:25:15.617191Z",
     "shell.execute_reply.started": "2022-09-06T16:25:15.461832Z"
    }
   },
   "outputs": [],
   "source": [
    "replacements = {\n",
    "    # Several columns\n",
    "    'unknown': np.nan,\n",
    "    # Days since previous campaign contact uses 999 as a special value\n",
    "    999: np.nan,\n",
    "    # If a customer did not exist during the previous campaing, its outcome is `'nonexistent'`\n",
    "    'nonexistent': np.nan,\n",
    "}\n",
    "df.replace(to_replace=replacements, inplace=True)"
   ]
  },
  {
   "cell_type": "markdown",
   "metadata": {
    "tags": []
   },
   "source": [
    "### What are \"Social and Economic Context Attributes\"?"
   ]
  },
  {
   "cell_type": "markdown",
   "metadata": {},
   "source": [
    "Let's inspect the \"Social and Economic Context Attributes\" data. For each column, we display each value and a count of how many times that value appears in the data set."
   ]
  },
  {
   "cell_type": "code",
   "execution_count": 7,
   "metadata": {
    "collapsed": true,
    "execution": {
     "iopub.execute_input": "2022-09-06T16:25:15.631672Z",
     "iopub.status.busy": "2022-09-06T16:25:15.630951Z",
     "iopub.status.idle": "2022-09-06T16:25:17.039435Z",
     "shell.execute_reply": "2022-09-06T16:25:17.037542Z",
     "shell.execute_reply.started": "2022-09-06T16:25:15.631628Z"
    },
    "jupyter": {
     "outputs_hidden": true
    },
    "tags": []
   },
   "outputs": [
    {
     "data": {
      "application/vnd.jupyter.widget-view+json": {
       "model_id": "b8ef71695fca4082937d570b469ba8b7",
       "version_major": 2,
       "version_minor": 0
      },
      "text/plain": [
       "Button(description='Toggle Pandas/Lux', layout=Layout(top='5px', width='140px'), style=ButtonStyle())"
      ]
     },
     "metadata": {},
     "output_type": "display_data"
    },
    {
     "data": {
      "application/vnd.jupyter.widget-view+json": {
       "model_id": "21f90741257e4aa788c9eb054e978b3d",
       "version_major": 2,
       "version_minor": 0
      },
      "text/plain": [
       "Output()"
      ]
     },
     "metadata": {},
     "output_type": "display_data"
    },
    {
     "data": {
      "application/vnd.jupyter.widget-view+json": {
       "model_id": "815a38b9a9804a6cb02563b0b4da743f",
       "version_major": 2,
       "version_minor": 0
      },
      "text/plain": [
       "Button(description='Toggle Pandas/Lux', layout=Layout(top='5px', width='140px'), style=ButtonStyle())"
      ]
     },
     "metadata": {},
     "output_type": "display_data"
    },
    {
     "data": {
      "application/vnd.jupyter.widget-view+json": {
       "model_id": "be32d40da72e4233a50ff231716f4688",
       "version_major": 2,
       "version_minor": 0
      },
      "text/plain": [
       "Output()"
      ]
     },
     "metadata": {},
     "output_type": "display_data"
    },
    {
     "data": {
      "application/vnd.jupyter.widget-view+json": {
       "model_id": "6b16e3727c694a46bf32691c0f89bb8f",
       "version_major": 2,
       "version_minor": 0
      },
      "text/plain": [
       "Button(description='Toggle Pandas/Lux', layout=Layout(top='5px', width='140px'), style=ButtonStyle())"
      ]
     },
     "metadata": {},
     "output_type": "display_data"
    },
    {
     "data": {
      "application/vnd.jupyter.widget-view+json": {
       "model_id": "9e4ec5c4ec3e43d5b27f2f4671e5bab3",
       "version_major": 2,
       "version_minor": 0
      },
      "text/plain": [
       "Output()"
      ]
     },
     "metadata": {},
     "output_type": "display_data"
    },
    {
     "data": {
      "application/vnd.jupyter.widget-view+json": {
       "model_id": "d0c588523b6942bfa6f83b411771a7bc",
       "version_major": 2,
       "version_minor": 0
      },
      "text/plain": [
       "Button(description='Toggle Pandas/Lux', layout=Layout(top='5px', width='140px'), style=ButtonStyle())"
      ]
     },
     "metadata": {},
     "output_type": "display_data"
    },
    {
     "data": {
      "application/vnd.jupyter.widget-view+json": {
       "model_id": "4e5720474aba4f0baad87f5a23a60dfe",
       "version_major": 2,
       "version_minor": 0
      },
      "text/plain": [
       "Output()"
      ]
     },
     "metadata": {},
     "output_type": "display_data"
    },
    {
     "data": {
      "application/vnd.jupyter.widget-view+json": {
       "model_id": "aa75181e66fe4034b6ff3c0e379623df",
       "version_major": 2,
       "version_minor": 0
      },
      "text/plain": [
       "Button(description='Toggle Pandas/Lux', layout=Layout(top='5px', width='140px'), style=ButtonStyle())"
      ]
     },
     "metadata": {},
     "output_type": "display_data"
    },
    {
     "data": {
      "application/vnd.jupyter.widget-view+json": {
       "model_id": "b85ba9a1ec8a4ffe8952c805a124aed4",
       "version_major": 2,
       "version_minor": 0
      },
      "text/plain": [
       "Output()"
      ]
     },
     "metadata": {},
     "output_type": "display_data"
    }
   ],
   "source": [
    "for col in ['employment_variation_rate', 'consumer_price_index','consumer_confidence_index', 'euribor_3_month_rate', 'employee_count']:\n",
    "    display(df[col].value_counts())"
   ]
  },
  {
   "cell_type": "markdown",
   "metadata": {
    "execution": {
     "iopub.execute_input": "2022-08-29T19:51:34.240098Z",
     "iopub.status.busy": "2022-08-29T19:51:34.238396Z",
     "iopub.status.idle": "2022-08-29T19:51:34.248047Z",
     "shell.execute_reply": "2022-08-29T19:51:34.246123Z",
     "shell.execute_reply.started": "2022-08-29T19:51:34.240045Z"
    },
    "tags": []
   },
   "source": [
    "It is still not clear which quarter/month/day the economic indicators refer to. It may be the time period associated to the date of last contact for the current campaign. Likewise, it is not clear what \"number of employees\" means, particularly considering most of the values are not whole numbers. Without knowing more, it is hard to interpret these columns. However, we can still use them as features as long as we are careful regarding the assumptions we make of them."
   ]
  },
  {
   "cell_type": "markdown",
   "metadata": {
    "execution": {
     "iopub.execute_input": "2022-08-29T19:51:34.240098Z",
     "iopub.status.busy": "2022-08-29T19:51:34.238396Z",
     "iopub.status.idle": "2022-08-29T19:51:34.248047Z",
     "shell.execute_reply": "2022-08-29T19:51:34.246123Z",
     "shell.execute_reply.started": "2022-08-29T19:51:34.240045Z"
    },
    "tags": []
   },
   "source": [
    "### Education"
   ]
  },
  {
   "cell_type": "markdown",
   "metadata": {
    "execution": {
     "iopub.execute_input": "2022-08-29T19:51:34.240098Z",
     "iopub.status.busy": "2022-08-29T19:51:34.238396Z",
     "iopub.status.idle": "2022-08-29T19:51:34.248047Z",
     "shell.execute_reply": "2022-08-29T19:51:34.246123Z",
     "shell.execute_reply.started": "2022-08-29T19:51:34.240045Z"
    },
    "tags": []
   },
   "source": [
    "Education could be an ordered education *level*. A reasonable guess of order from least education to most education might be\n",
    "\n",
    "0. illiterate\n",
    "1. basic.4y\n",
    "2. basic.6y\n",
    "3. basic.9y\n",
    "4. high.school\n",
    "5. professional.course\n",
    "6. university.degree\n",
    "\n",
    "with \"unknown\" being treated as a missing value. We assume this ordering and encode it in a new column named \"education_level\". It is not clear, though, if \"professional.course\" is comparable to the others."
   ]
  },
  {
   "cell_type": "code",
   "execution_count": 8,
   "metadata": {
    "execution": {
     "iopub.execute_input": "2022-09-06T16:25:17.045241Z",
     "iopub.status.busy": "2022-09-06T16:25:17.044389Z",
     "iopub.status.idle": "2022-09-06T16:25:17.114557Z",
     "shell.execute_reply": "2022-09-06T16:25:17.113609Z",
     "shell.execute_reply.started": "2022-09-06T16:25:17.045197Z"
    },
    "tags": []
   },
   "outputs": [],
   "source": [
    "ed_levels = {\n",
    "    'illiterate': 0,\n",
    "    'basic.4y': 1,\n",
    "    'basic.6y': 2,\n",
    "    'basic.9y': 3,\n",
    "    'high.school': 4,\n",
    "    'professional.course': 5,\n",
    "    'university.degree': 6,\n",
    "    'unknown': np.nan,\n",
    "    # If I have already replaced `'unknown'` with `np.nan`:\n",
    "    np.nan: np.nan\n",
    "}\n",
    "df['education_level'] = df['education'].map(lambda x: ed_levels[x])"
   ]
  },
  {
   "cell_type": "markdown",
   "metadata": {
    "execution": {
     "iopub.execute_input": "2022-08-29T19:51:34.240098Z",
     "iopub.status.busy": "2022-08-29T19:51:34.238396Z",
     "iopub.status.idle": "2022-08-29T19:51:34.248047Z",
     "shell.execute_reply": "2022-08-29T19:51:34.246123Z",
     "shell.execute_reply.started": "2022-08-29T19:51:34.240045Z"
    },
    "tags": []
   },
   "source": [
    "### Values in other columns"
   ]
  },
  {
   "cell_type": "markdown",
   "metadata": {
    "execution": {
     "iopub.execute_input": "2022-08-29T19:51:34.240098Z",
     "iopub.status.busy": "2022-08-29T19:51:34.238396Z",
     "iopub.status.idle": "2022-08-29T19:51:34.248047Z",
     "shell.execute_reply": "2022-08-29T19:51:34.246123Z",
     "shell.execute_reply.started": "2022-08-29T19:51:34.240045Z"
    },
    "jp-MarkdownHeadingCollapsed": true,
    "tags": []
   },
   "source": [
    "Let's inspect what values appear in some of the other columns. As before, we can find counts for each unique value in a column `col` by executing `display(df[col].value_counts())`. For quantitative columns, for economy of space we will look at a histogram and refer to the value counts without explicitly computing them. The Lux plugin for Jupyter can do this automatically for us."
   ]
  },
  {
   "cell_type": "code",
   "execution_count": 9,
   "metadata": {
    "execution": {
     "iopub.execute_input": "2022-09-06T16:25:17.117189Z",
     "iopub.status.busy": "2022-09-06T16:25:17.116582Z",
     "iopub.status.idle": "2022-09-06T16:25:19.842444Z",
     "shell.execute_reply": "2022-09-06T16:25:19.841228Z",
     "shell.execute_reply.started": "2022-09-06T16:25:17.117149Z"
    },
    "tags": []
   },
   "outputs": [
    {
     "data": {
      "application/vnd.jupyter.widget-view+json": {
       "model_id": "9a5f681d81f640ccbb8b1428f76b9b1e",
       "version_major": 2,
       "version_minor": 0
      },
      "text/plain": [
       "Button(description='Toggle Pandas/Lux', layout=Layout(top='5px', width='140px'), style=ButtonStyle())"
      ]
     },
     "metadata": {},
     "output_type": "display_data"
    },
    {
     "data": {
      "application/vnd.jupyter.widget-view+json": {
       "model_id": "ab4c973d84514dc9983d7feb2e1e774a",
       "version_major": 2,
       "version_minor": 0
      },
      "text/plain": [
       "Output()"
      ]
     },
     "metadata": {},
     "output_type": "display_data"
    }
   ],
   "source": [
    "df[['age', 'job', 'marital', 'education', 'credit_in_default',\n",
    "       'housing_loan', 'personal_loan', 'contact_method', 'contact_month',\n",
    "       'contact_weekday', 'contact_duration', 'contact_count',\n",
    "       'days_since_previous_campaign_contact', 'previous_contact_count',\n",
    "       'previous_outcome']]"
   ]
  },
  {
   "cell_type": "markdown",
   "metadata": {},
   "source": [
    "The following will display value counts for the listed columns, but we hide the output for economy of space."
   ]
  },
  {
   "cell_type": "code",
   "execution_count": 10,
   "metadata": {
    "collapsed": true,
    "execution": {
     "iopub.execute_input": "2022-09-06T16:25:19.845323Z",
     "iopub.status.busy": "2022-09-06T16:25:19.844909Z",
     "iopub.status.idle": "2022-09-06T16:25:22.507225Z",
     "shell.execute_reply": "2022-09-06T16:25:22.442098Z",
     "shell.execute_reply.started": "2022-09-06T16:25:19.845286Z"
    },
    "jupyter": {
     "outputs_hidden": true
    },
    "tags": []
   },
   "outputs": [
    {
     "data": {
      "application/vnd.jupyter.widget-view+json": {
       "model_id": "169dd609bdd74126a619bda9cde692f7",
       "version_major": 2,
       "version_minor": 0
      },
      "text/plain": [
       "Button(description='Toggle Pandas/Lux', layout=Layout(top='5px', width='140px'), style=ButtonStyle())"
      ]
     },
     "metadata": {},
     "output_type": "display_data"
    },
    {
     "data": {
      "application/vnd.jupyter.widget-view+json": {
       "model_id": "6e0ad7e2cfb649abaa01a443af6fd0bb",
       "version_major": 2,
       "version_minor": 0
      },
      "text/plain": [
       "Output()"
      ]
     },
     "metadata": {},
     "output_type": "display_data"
    },
    {
     "data": {
      "application/vnd.jupyter.widget-view+json": {
       "model_id": "96c3b2d9c60f4f96811e34440e23ff2e",
       "version_major": 2,
       "version_minor": 0
      },
      "text/plain": [
       "Button(description='Toggle Pandas/Lux', layout=Layout(top='5px', width='140px'), style=ButtonStyle())"
      ]
     },
     "metadata": {},
     "output_type": "display_data"
    },
    {
     "data": {
      "application/vnd.jupyter.widget-view+json": {
       "model_id": "e915c2326ad94304b663d1aea2815f82",
       "version_major": 2,
       "version_minor": 0
      },
      "text/plain": [
       "Output()"
      ]
     },
     "metadata": {},
     "output_type": "display_data"
    },
    {
     "data": {
      "application/vnd.jupyter.widget-view+json": {
       "model_id": "1b3e2df1a7cb45a684047994351e178e",
       "version_major": 2,
       "version_minor": 0
      },
      "text/plain": [
       "Button(description='Toggle Pandas/Lux', layout=Layout(top='5px', width='140px'), style=ButtonStyle())"
      ]
     },
     "metadata": {},
     "output_type": "display_data"
    },
    {
     "data": {
      "application/vnd.jupyter.widget-view+json": {
       "model_id": "ef30ed2fad9f470caef81fba5ba836c3",
       "version_major": 2,
       "version_minor": 0
      },
      "text/plain": [
       "Output()"
      ]
     },
     "metadata": {},
     "output_type": "display_data"
    },
    {
     "data": {
      "application/vnd.jupyter.widget-view+json": {
       "model_id": "838328b4a5694c96a25e8de66ebb57ef",
       "version_major": 2,
       "version_minor": 0
      },
      "text/plain": [
       "Button(description='Toggle Pandas/Lux', layout=Layout(top='5px', width='140px'), style=ButtonStyle())"
      ]
     },
     "metadata": {},
     "output_type": "display_data"
    },
    {
     "data": {
      "application/vnd.jupyter.widget-view+json": {
       "model_id": "d6d1878fbbf94e9a8d61e09986e3e631",
       "version_major": 2,
       "version_minor": 0
      },
      "text/plain": [
       "Output()"
      ]
     },
     "metadata": {},
     "output_type": "display_data"
    },
    {
     "data": {
      "application/vnd.jupyter.widget-view+json": {
       "model_id": "02a378c81463489782ae999ae5ac2a75",
       "version_major": 2,
       "version_minor": 0
      },
      "text/plain": [
       "Button(description='Toggle Pandas/Lux', layout=Layout(top='5px', width='140px'), style=ButtonStyle())"
      ]
     },
     "metadata": {},
     "output_type": "display_data"
    },
    {
     "data": {
      "application/vnd.jupyter.widget-view+json": {
       "model_id": "32fec9f0c3de4bf9bfecc1f60d885120",
       "version_major": 2,
       "version_minor": 0
      },
      "text/plain": [
       "Output()"
      ]
     },
     "metadata": {},
     "output_type": "display_data"
    },
    {
     "data": {
      "application/vnd.jupyter.widget-view+json": {
       "model_id": "f0baa9a659264bb082057851b903d060",
       "version_major": 2,
       "version_minor": 0
      },
      "text/plain": [
       "Button(description='Toggle Pandas/Lux', layout=Layout(top='5px', width='140px'), style=ButtonStyle())"
      ]
     },
     "metadata": {},
     "output_type": "display_data"
    },
    {
     "data": {
      "application/vnd.jupyter.widget-view+json": {
       "model_id": "93528adf95fc424ba0677debf59648c5",
       "version_major": 2,
       "version_minor": 0
      },
      "text/plain": [
       "Output()"
      ]
     },
     "metadata": {},
     "output_type": "display_data"
    },
    {
     "data": {
      "application/vnd.jupyter.widget-view+json": {
       "model_id": "fcdf31e10d2f4c44a035eeac6a58a12f",
       "version_major": 2,
       "version_minor": 0
      },
      "text/plain": [
       "Button(description='Toggle Pandas/Lux', layout=Layout(top='5px', width='140px'), style=ButtonStyle())"
      ]
     },
     "metadata": {},
     "output_type": "display_data"
    },
    {
     "data": {
      "application/vnd.jupyter.widget-view+json": {
       "model_id": "6fb3722915694fb8882cb7daa9c4c57c",
       "version_major": 2,
       "version_minor": 0
      },
      "text/plain": [
       "Output()"
      ]
     },
     "metadata": {},
     "output_type": "display_data"
    },
    {
     "data": {
      "application/vnd.jupyter.widget-view+json": {
       "model_id": "29d28da6659a4b8f8b2a12f2feadcae3",
       "version_major": 2,
       "version_minor": 0
      },
      "text/plain": [
       "Button(description='Toggle Pandas/Lux', layout=Layout(top='5px', width='140px'), style=ButtonStyle())"
      ]
     },
     "metadata": {},
     "output_type": "display_data"
    },
    {
     "data": {
      "application/vnd.jupyter.widget-view+json": {
       "model_id": "07597cc6164b496786598ad1357193f7",
       "version_major": 2,
       "version_minor": 0
      },
      "text/plain": [
       "Output()"
      ]
     },
     "metadata": {},
     "output_type": "display_data"
    },
    {
     "data": {
      "application/vnd.jupyter.widget-view+json": {
       "model_id": "1622d93a796944599eec7b6b53b65934",
       "version_major": 2,
       "version_minor": 0
      },
      "text/plain": [
       "Button(description='Toggle Pandas/Lux', layout=Layout(top='5px', width='140px'), style=ButtonStyle())"
      ]
     },
     "metadata": {},
     "output_type": "display_data"
    },
    {
     "data": {
      "application/vnd.jupyter.widget-view+json": {
       "model_id": "2ecf8dff656a44a891699bf776e82974",
       "version_major": 2,
       "version_minor": 0
      },
      "text/plain": [
       "Output()"
      ]
     },
     "metadata": {},
     "output_type": "display_data"
    },
    {
     "data": {
      "application/vnd.jupyter.widget-view+json": {
       "model_id": "37a6c42e4a1941d2950c3b62cd7b38fa",
       "version_major": 2,
       "version_minor": 0
      },
      "text/plain": [
       "Button(description='Toggle Pandas/Lux', layout=Layout(top='5px', width='140px'), style=ButtonStyle())"
      ]
     },
     "metadata": {},
     "output_type": "display_data"
    },
    {
     "data": {
      "application/vnd.jupyter.widget-view+json": {
       "model_id": "9b27e1a944af408096fa091460b5762c",
       "version_major": 2,
       "version_minor": 0
      },
      "text/plain": [
       "Output()"
      ]
     },
     "metadata": {},
     "output_type": "display_data"
    },
    {
     "data": {
      "application/vnd.jupyter.widget-view+json": {
       "model_id": "d055a837cf3441ed9c99689d9ad37473",
       "version_major": 2,
       "version_minor": 0
      },
      "text/plain": [
       "Button(description='Toggle Pandas/Lux', layout=Layout(top='5px', width='140px'), style=ButtonStyle())"
      ]
     },
     "metadata": {},
     "output_type": "display_data"
    },
    {
     "data": {
      "application/vnd.jupyter.widget-view+json": {
       "model_id": "42d2fe1989ed4927885570cd2b3dd186",
       "version_major": 2,
       "version_minor": 0
      },
      "text/plain": [
       "Output()"
      ]
     },
     "metadata": {},
     "output_type": "display_data"
    },
    {
     "data": {
      "application/vnd.jupyter.widget-view+json": {
       "model_id": "b0306cf5abe64f77b24284c55f9b9599",
       "version_major": 2,
       "version_minor": 0
      },
      "text/plain": [
       "Button(description='Toggle Pandas/Lux', layout=Layout(top='5px', width='140px'), style=ButtonStyle())"
      ]
     },
     "metadata": {},
     "output_type": "display_data"
    },
    {
     "data": {
      "application/vnd.jupyter.widget-view+json": {
       "model_id": "f7a1dfbbbb1545ef95c1c0a21462593a",
       "version_major": 2,
       "version_minor": 0
      },
      "text/plain": [
       "Output()"
      ]
     },
     "metadata": {},
     "output_type": "display_data"
    },
    {
     "data": {
      "application/vnd.jupyter.widget-view+json": {
       "model_id": "83206e765d6343a6826a333abedc6c28",
       "version_major": 2,
       "version_minor": 0
      },
      "text/plain": [
       "Button(description='Toggle Pandas/Lux', layout=Layout(top='5px', width='140px'), style=ButtonStyle())"
      ]
     },
     "metadata": {},
     "output_type": "display_data"
    },
    {
     "data": {
      "application/vnd.jupyter.widget-view+json": {
       "model_id": "d13d9d1d169347ffa32cab2481b6d0a8",
       "version_major": 2,
       "version_minor": 0
      },
      "text/plain": [
       "Output()"
      ]
     },
     "metadata": {},
     "output_type": "display_data"
    },
    {
     "data": {
      "application/vnd.jupyter.widget-view+json": {
       "model_id": "1e374b2a3df349459408e9eb75653379",
       "version_major": 2,
       "version_minor": 0
      },
      "text/plain": [
       "Button(description='Toggle Pandas/Lux', layout=Layout(top='5px', width='140px'), style=ButtonStyle())"
      ]
     },
     "metadata": {},
     "output_type": "display_data"
    },
    {
     "data": {
      "application/vnd.jupyter.widget-view+json": {
       "model_id": "df035556ef23487b91571d88433c5708",
       "version_major": 2,
       "version_minor": 0
      },
      "text/plain": [
       "Output()"
      ]
     },
     "metadata": {},
     "output_type": "display_data"
    },
    {
     "data": {
      "application/vnd.jupyter.widget-view+json": {
       "model_id": "e9171c1f56244dd2b09d641bb00dfe34",
       "version_major": 2,
       "version_minor": 0
      },
      "text/plain": [
       "Button(description='Toggle Pandas/Lux', layout=Layout(top='5px', width='140px'), style=ButtonStyle())"
      ]
     },
     "metadata": {},
     "output_type": "display_data"
    },
    {
     "data": {
      "application/vnd.jupyter.widget-view+json": {
       "model_id": "0ad09208c1c647918a9c600f0e1e63f7",
       "version_major": 2,
       "version_minor": 0
      },
      "text/plain": [
       "Output()"
      ]
     },
     "metadata": {},
     "output_type": "display_data"
    }
   ],
   "source": [
    "for col in ['age', 'job', 'marital', 'education', 'credit_in_default',\n",
    "       'housing_loan', 'personal_loan', 'contact_method', 'contact_month',\n",
    "       'contact_weekday', 'contact_duration', 'contact_count',\n",
    "       'days_since_previous_campaign_contact', 'previous_contact_count',\n",
    "       'previous_outcome']:\n",
    "    display(df[col].value_counts())"
   ]
  },
  {
   "cell_type": "markdown",
   "metadata": {},
   "source": [
    "We find almost all customers were never contacted for the previous campaign. Likewise, relatively few customers have data for the outcome of the previous campaign (perhaps because they were not customers at the time). This casts doubt on the usefulness of these fields except as a comparative benchmark.\n",
    "\n",
    "Only 3 records have a value of yes in the \"credit_in_default\" column. (The remaining values are either no or unknown.) Because any \"correlation\" within the 3 yes records has a high likelihood of being due to random chance, this column should not be used for prediction. "
   ]
  },
  {
   "cell_type": "markdown",
   "metadata": {
    "tags": []
   },
   "source": [
    "## Panel Data (Time Series)"
   ]
  },
  {
   "cell_type": "markdown",
   "metadata": {
    "jp-MarkdownHeadingCollapsed": true,
    "tags": []
   },
   "source": [
    "The campaign ran from March through December. The contact month is the month of the last contact of the campaign, allowing us to view the data set as panel data (multidimensional equivalent of time series). We transform each month to its usual numeric value to more easily order the data by time.\n",
    "\n",
    "The task is to predict the outcome using the data set, but in practice we would probably want to update the model *during* a campaign. The months column would be crucial for developing that model."
   ]
  },
  {
   "cell_type": "code",
   "execution_count": 12,
   "metadata": {
    "execution": {
     "iopub.execute_input": "2022-09-06T16:25:22.570587Z",
     "iopub.status.busy": "2022-09-06T16:25:22.568705Z",
     "iopub.status.idle": "2022-09-06T16:25:22.686839Z",
     "shell.execute_reply": "2022-09-06T16:25:22.680509Z",
     "shell.execute_reply.started": "2022-09-06T16:25:22.570525Z"
    },
    "tags": []
   },
   "outputs": [],
   "source": [
    "months = { m: i+3 for i, m in enumerate(['mar', 'apr', 'may', 'jun', 'jul', 'aug', 'sep', 'oct', 'nov', 'dec']) }\n",
    "df['contact_month'] = df['contact_month'].map(lambda x: months[x])"
   ]
  },
  {
   "cell_type": "markdown",
   "metadata": {},
   "source": [
    "Let's see a histogram."
   ]
  },
  {
   "cell_type": "code",
   "execution_count": 13,
   "metadata": {
    "execution": {
     "iopub.execute_input": "2022-09-06T16:25:22.690781Z",
     "iopub.status.busy": "2022-09-06T16:25:22.689819Z",
     "iopub.status.idle": "2022-09-06T16:25:23.041034Z",
     "shell.execute_reply": "2022-09-06T16:25:23.035583Z",
     "shell.execute_reply.started": "2022-09-06T16:25:22.690729Z"
    },
    "tags": []
   },
   "outputs": [
    {
     "data": {
      "image/png": "[encoded data removed]",
      "text/plain": [
       "<Figure size 640x480 with 1 Axes>"
      ]
     },
     "metadata": {},
     "output_type": "display_data"
    }
   ],
   "source": [
    "month_hist_data = df['contact_month'].value_counts().sort_index()\n",
    "ax = month_hist_data.plot.bar()\n",
    "_  = ax.bar_label(ax.containers[0])\n",
    "plt.show()"
   ]
  },
  {
   "cell_type": "markdown",
   "metadata": {
    "execution": {
     "iopub.execute_input": "2022-08-31T00:50:38.237529Z",
     "iopub.status.busy": "2022-08-31T00:50:38.234679Z",
     "iopub.status.idle": "2022-08-31T00:50:38.271903Z",
     "shell.execute_reply": "2022-08-31T00:50:38.261765Z",
     "shell.execute_reply.started": "2022-08-31T00:50:38.237453Z"
    }
   },
   "source": [
    "# Predictive Models"
   ]
  },
  {
   "cell_type": "markdown",
   "metadata": {
    "tags": []
   },
   "source": [
    "## Measuring Performance"
   ]
  },
  {
   "cell_type": "markdown",
   "metadata": {},
   "source": [
    "There are many ways to measure the performance of a predictive model. The problem context—the businesss use-case, computational environment, etc.— will determine which metrics are most suitable for judging the suitability of a model. In the case of this problem, let us assume that we wish to target only those customers who the model predicts will ultimately subscribe to the product. Our goal, then, is to simultaneously\n",
    "\n",
    "1. minimize the number of customers the campaign targets, which has a theoretical minimum equal to the true number of subscribers; and\n",
    "1. maximize the number of customers who ultimately choose to subscribe to the product, which has a theoretical maximum equal to the true number of subscribers.\n",
    "\n",
    "A priori, it may not be possible to achieve both goals simultaneously without an infallible oracle. Consider the extreme cases: One way to achieve the second goal is to target every customer. Then every customer that will respond to the campaign with a subscription is sure to be targeted, and thus the number of subscribers is maximized. However, the number of targeted customers is also maximized. Likewise, the second goal is achievable by not targeting any customer, but this strategy *minimizes* the number of customers who will ultimately subscribe to the product.\n",
    "\n",
    "In the presence of some fixed uncertainty, the optimal strategy will ultimately depend on the marginal cost of targeting a customer relative to the marginal reward of obtaining an additional subscriber. Let's call this the *secondary* optimization problem. These costs are not provided in the problem statement, so we must assume that this secondary optimization problem will be solved after we develope our predictive model, perhaps by a different business unit that better understand those business costs. Our goal, then, is to try to control the uncertainty, as it is clear that a model which more accurately predicts the true outcome than another model is strictly superior to that other model *regardless of the secondary optimization problem.*\n",
    "\n",
    "Let us adopt the following abbreviations:\n",
    "\n",
    "|  |  |  The model… |\n",
    "|:---|:---|:---|\n",
    "| TP | True Positive | correctly predicts a customer will subscribe |\n",
    "| TN | True Negative | correctly predicts a customer will not subscribe |\n",
    "| FP | False Positive | incorrectly predicts a customer will subscribe |\n",
    "| FN | False Negative | incorrectly predicts a customer will not subscribe |\n",
    "\n",
    "![Abbreviations](./Prediction.svg)\n",
    "\n",
    "\n",
    "Given the discussion above and a little reflection, it is clear that we wish to\n",
    "\n",
    "1. maximize TP, and\n",
    "1. maximize TN.\n",
    "\n",
    "(Since any one of the sets can be written in terms of the others, there are multiple equivalent ways of expressing this. For example: We want to minimize FP and minimize FN.) We will use the following metrics to quantify how well these goals are achieved (see [wikipedia](https://en.wikipedia.org/wiki/Sensitivity_and_specificity#Specificity) for these metrics and others):"
   ]
  },
  {
   "cell_type": "markdown",
   "metadata": {},
   "source": [
    "| Term and Common Synonyms | &nbsp;&nbsp;&nbsp;&nbsp;&nbsp;&nbsp;&nbsp;&nbsp;&nbsp;&nbsp;Formula&nbsp;&nbsp;&nbsp;&nbsp;&nbsp;&nbsp;&nbsp;&nbsp;&nbsp;&nbsp;&nbsp;&nbsp;&nbsp; | Interpretation |\n",
    "|:------|:--------:|:-------|\n",
    "| sensitivity,<br>recall,<br>hit rate,<br>or true positive rate (TPR) | ${\\frac {\\mathrm {TP} }{\\mathrm {P} }}={\\frac {\\mathrm {TP} }{\\mathrm {TP} +\\mathrm {FN} }}$ | The percentage of subscribers that were accurately predicted |\n",
    "| specificity,<br>selectivity or<br>true negative rate (TNR) | ${\\frac {\\mathrm {TN} }{\\mathrm {N} }}={\\frac {\\mathrm {TN} }{\\mathrm {TN} +\\mathrm {FP} }}$ | The percentage of nonsubscribers that were accurately predicted |"
   ]
  },
  {
   "cell_type": "markdown",
   "metadata": {},
   "source": [
    "We will also give TN, TP, FN, and FP in absolute numbers in the form of the matrix:\n",
    "\n",
    "|  | Actual Subscriber | Actual Nonsubscriber | Total |\n",
    "|-----:|:---:|:----:|:----|\n",
    "| Predicted Subscriber | TP | FP | TP + FP |\n",
    "| Predicted Nonsubscriber | FN | TN | FN + TN |\n",
    "| Total | TP + FN | FP + TN | \\# of People |"
   ]
  },
  {
   "cell_type": "markdown",
   "metadata": {},
   "source": [
    "The four central cells of this matrix is called the confusion matrix. \n",
    "\n",
    "Classification models often have a threshold parameter that controls the cutoff probability above which a prediction is determined to be positive (predicted yes). For consistency we keep this value at 50%, but in practice the marginal cost of a false positive relative to marginal cost of targeting a customer will determine how to tune this parameter. \n",
    "\n",
    "Models are trained on 75% of the data set and their performance is evaluated on the remaining 25%."
   ]
  },
  {
   "cell_type": "markdown",
   "metadata": {
    "jp-MarkdownHeadingCollapsed": true,
    "tags": []
   },
   "source": [
    "#### Code to compute performance"
   ]
  },
  {
   "cell_type": "code",
   "execution_count": 14,
   "metadata": {
    "execution": {
     "iopub.execute_input": "2022-09-06T16:25:23.049167Z",
     "iopub.status.busy": "2022-09-06T16:25:23.047938Z",
     "iopub.status.idle": "2022-09-06T16:25:23.265648Z",
     "shell.execute_reply": "2022-09-06T16:25:23.264576Z",
     "shell.execute_reply.started": "2022-09-06T16:25:23.049117Z"
    },
    "tags": []
   },
   "outputs": [],
   "source": [
    "from sklearn.metrics import precision_recall_fscore_support, confusion_matrix"
   ]
  },
  {
   "cell_type": "code",
   "execution_count": 15,
   "metadata": {
    "execution": {
     "iopub.execute_input": "2022-09-06T16:25:23.269366Z",
     "iopub.status.busy": "2022-09-06T16:25:23.267135Z",
     "iopub.status.idle": "2022-09-06T16:25:23.288907Z",
     "shell.execute_reply": "2022-09-06T16:25:23.286075Z",
     "shell.execute_reply.started": "2022-09-06T16:25:23.269312Z"
    },
    "tags": []
   },
   "outputs": [],
   "source": [
    "def confusion_matrix_md(predicted_y, true_y):\n",
    "    tn, fp, fn, tp = confusion_matrix(y_pred=predicted_y, y_true=true_y).ravel()\n",
    "    display(Markdown( f\"\"\"|  | Actual Subscriber | Actual Nonsubscriber | Total |\n",
    "|-----:|:---:|:----:|:----|\n",
    "| Predicted Subscriber | TP = {tp} | FP = {fp} | TP + FP = {tp+fp} |\n",
    "| Predicted Nonsubscriber | FN = {fn} | TN = {tn} | FN + TN = {fn+tn} |\n",
    "| Total | TP + FN={tp+fn} | FP + TN = {fp+tn} | {tp+tn+fp+fn} |\"\"\"))\n",
    "    "
   ]
  },
  {
   "cell_type": "code",
   "execution_count": 16,
   "metadata": {
    "execution": {
     "iopub.execute_input": "2022-09-06T16:25:23.293991Z",
     "iopub.status.busy": "2022-09-06T16:25:23.291768Z",
     "iopub.status.idle": "2022-09-06T16:25:23.316224Z",
     "shell.execute_reply": "2022-09-06T16:25:23.311154Z",
     "shell.execute_reply.started": "2022-09-06T16:25:23.293878Z"
    },
    "tags": []
   },
   "outputs": [],
   "source": [
    "def recall_selectivity_md(predicted_y, true_y):\n",
    "    tn, fp, fn, tp = confusion_matrix(y_pred=predicted_y, y_true=true_y).ravel()\n",
    "    display(Markdown( f\"\"\"|  | &nbsp;&nbsp;&nbsp;&nbsp;&nbsp;&nbsp;&nbsp;&nbsp;&nbsp;&nbsp;&nbsp;&nbsp;&nbsp;&nbsp;&nbsp;&nbsp;&nbsp;&nbsp;&nbsp;&nbsp;&nbsp;&nbsp;&nbsp;&nbsp;&nbsp;&nbsp;&nbsp;&nbsp;&nbsp;&nbsp;&nbsp;&nbsp;&nbsp;&nbsp;&nbsp;&nbsp;&nbsp;&nbsp;&nbsp;|\n",
    "|-----:|:---|\n",
    "| Recall | ${{ {{\\mathrm {{TP}} }} \\over {{\\mathrm {{TP}} +\\mathrm {{FN}} }}}}=$ {tp/(tp+fn):.2%} |\n",
    "| Selectivity | ${{ {{\\mathrm {{TN}} }} \\over {{\\mathrm {{TN}} +\\mathrm {{FP}} }}}}=$ {tn/(tn+fp):.2%} |\"\"\"))"
   ]
  },
  {
   "cell_type": "markdown",
   "metadata": {
    "tags": []
   },
   "source": [
    "## Linear Regression Model"
   ]
  },
  {
   "cell_type": "markdown",
   "metadata": {
    "tags": []
   },
   "source": [
    "### Pros and Cons of Linear Regression"
   ]
  },
  {
   "cell_type": "markdown",
   "metadata": {},
   "source": [
    "A linear regression model assumes the probability of the outcome conditioned on concrete values for the explanatory variables is a linear combination of those values. Of course, linear models work best when the relationships between the explanatory variables and the outcome are linear relationships, that is, they are linearly correlated.\n",
    "\n",
    "It is possible for two variables to have a very strong nonlinear relationship. Purely linear analysis can obscure this relationship, a phenomenon famously illustrated by [Anscombe's quartet](https://en.wikipedia.org/wiki/Anscombe%27s_quartet), which consists of four data sets \"that have nearly identical simple descriptive statistics, yet have very different distributions\":\n",
    "\n",
    "![Anscombe's quartet](https://upload.wikimedia.org/wikipedia/commons/e/ec/Anscombe%27s_quartet_3.svg)\n",
    "\n",
    "\n",
    "A model that assumes only linear relationships may perform very poorly despite the existence of a strong nonlinear relationships. Another challenge is multicolinearity, which is the phenomenon that the explanatory variables are not linearly independent. "
   ]
  },
  {
   "cell_type": "markdown",
   "metadata": {},
   "source": [
    "A full exposition of the assumptions of linear regression and the consequences of violations of those assumptions is out of scope of this exercise. However, linear relationships are abundant in nature, and in contexts in which linear regression performs well, it has the additional advantage of being easy to understand relative to other methods.\n",
    "\n",
    "For the reasons discussed above, ***we should expect this model to perform poorly*** relative to other models. However, it is so easy to understand and apply that it is worth trying nonetheless. It also gives us a basis for comparison for other models."
   ]
  },
  {
   "cell_type": "markdown",
   "metadata": {
    "tags": []
   },
   "source": [
    "### Encoding categorical variables"
   ]
  },
  {
   "cell_type": "markdown",
   "metadata": {},
   "source": [
    "When the data set contains categorical data that we want to use in linear regression, we have to give the categorical variables a numerical encoding. In fact, we have already done so for the month and education columns, which have a natural encoding as nonnegative integers. In the case of education, we must decide how to handle missing values, which occurs in ~4% of records. For now, we just omit those records from the model. Because our goal is to determine the most efficient allocation of the bank's resources, and because only ~4% of records omit education, this is a sensible choice.\n",
    "\n",
    "For other columns like the \"marital\" and the \"\"\\*\\_loan\" columns we will use dummy coding, which introduces new variables the possible values, where the new variables can take the values 0 or 1. If a value is required for the original field (no \"missing\" or \"unknown\" values), then we keep one of the values implicit. It will be represented by having a 0 in every one of the new binary variables. "
   ]
  },
  {
   "cell_type": "code",
   "execution_count": 17,
   "metadata": {
    "execution": {
     "iopub.execute_input": "2022-09-06T16:25:23.321859Z",
     "iopub.status.busy": "2022-09-06T16:25:23.317647Z",
     "iopub.status.idle": "2022-09-06T16:25:23.422438Z",
     "shell.execute_reply": "2022-09-06T16:25:23.421340Z",
     "shell.execute_reply.started": "2022-09-06T16:25:23.321605Z"
    },
    "jupyter": {
     "source_hidden": true
    },
    "tags": []
   },
   "outputs": [],
   "source": [
    "from sklearn.model_selection import train_test_split\n",
    "from sklearn.linear_model import LinearRegression"
   ]
  },
  {
   "cell_type": "code",
   "execution_count": 19,
   "metadata": {
    "execution": {
     "iopub.execute_input": "2022-09-06T16:25:23.455442Z",
     "iopub.status.busy": "2022-09-06T16:25:23.453234Z",
     "iopub.status.idle": "2022-09-06T16:25:23.492422Z",
     "shell.execute_reply": "2022-09-06T16:25:23.491283Z",
     "shell.execute_reply.started": "2022-09-06T16:25:23.455383Z"
    },
    "tags": []
   },
   "outputs": [],
   "source": [
    "# Probably don't need this list, but we keep it to make the excluded columns explicit.\n",
    "excluded_columns = [\n",
    "    # Too few records have credit in default\n",
    "    'credit_in_default', \n",
    "    # Data for previous campaign is mostly missing, so we use it only for benchmark comparisons\n",
    "    'days_since_previous_campaign_contact', 'previous_contact_count', 'previous_outcome',\n",
    "    # Encoded as `'education_level'`\n",
    "    'education',\n",
    "    # Excluded; see note in data set description.\n",
    "    'contact_duration',\n",
    "    # Variable we wish to predict\n",
    "    'outcome', \n",
    "]\n",
    "\n",
    "# Columns to use as predictors for linear regression.\n",
    "lr_columns = ['age', 'job', 'marital', 'housing_loan', 'personal_loan', 'contact_method', 'contact_month', 'contact_weekday',  'contact_count',  'employment_variation_rate', 'consumer_price_index', 'consumer_confidence_index', 'euribor_3_month_rate', 'employee_count', 'education_level']\n",
    "\n",
    "df_lr = df[lr_columns][df['education'].notnull()]\n",
    "df_lr_outcome = df['outcome'][df['education'].notnull()]"
   ]
  },
  {
   "cell_type": "markdown",
   "metadata": {},
   "source": [
    "For columns in which missing data is represented by `np.nan`, the NaN value will become implicit in the simple dummy encoding (`drop_first=false`, `dummy_na=True`). In other columns, we arbitrarily choose the first value to be implicit (`drop_first = True`, `dummy_na=False`)."
   ]
  },
  {
   "cell_type": "code",
   "execution_count": 23,
   "metadata": {
    "execution": {
     "iopub.execute_input": "2022-09-06T16:25:23.669839Z",
     "iopub.status.busy": "2022-09-06T16:25:23.658167Z",
     "iopub.status.idle": "2022-09-06T16:25:23.692879Z",
     "shell.execute_reply": "2022-09-06T16:25:23.690475Z",
     "shell.execute_reply.started": "2022-09-06T16:25:23.669773Z"
    },
    "tags": []
   },
   "outputs": [],
   "source": [
    "# First value is implicit\n",
    "encoded_cols = ['contact_method', 'contact_weekday']\n",
    "df_dummies = pd.get_dummies(df_lr[encoded_cols], drop_first = True, dummy_na=False)\n",
    "\n",
    "df_lr = pd.concat([df_lr[[c for c in df_lr.columns if c not in encoded_cols]], df_dummies], axis=1)\n",
    "\n",
    "# NaN value is implicit\n",
    "encoded_cols = ['marital', 'job', 'housing_loan', 'personal_loan']\n",
    "df_dummies = pd.get_dummies(df_lr[encoded_cols], drop_first = False, dummy_na=True)\n",
    "\n",
    "df_lr = pd.concat([df_lr[[c for c in df_lr.columns if c not in encoded_cols]], df_dummies], axis=1)"
   ]
  },
  {
   "cell_type": "markdown",
   "metadata": {},
   "source": [
    "As NaN values will be implicit, we drop the encoded NaN columns."
   ]
  },
  {
   "cell_type": "code",
   "execution_count": 24,
   "metadata": {
    "execution": {
     "iopub.execute_input": "2022-09-06T16:25:23.705325Z",
     "iopub.status.busy": "2022-09-06T16:25:23.704040Z",
     "iopub.status.idle": "2022-09-06T16:25:23.727071Z",
     "shell.execute_reply": "2022-09-06T16:25:23.719905Z",
     "shell.execute_reply.started": "2022-09-06T16:25:23.705266Z"
    },
    "tags": []
   },
   "outputs": [],
   "source": [
    "df_lr = df_lr[[c for c in df_lr.columns if not c.endswith('_nan')]]"
   ]
  },
  {
   "cell_type": "markdown",
   "metadata": {},
   "source": [
    "Finally, the outcome has values of 'yes' and 'no', which we encode as 1 and 0 respectively."
   ]
  },
  {
   "cell_type": "code",
   "execution_count": 25,
   "metadata": {
    "execution": {
     "iopub.execute_input": "2022-09-06T16:25:23.735086Z",
     "iopub.status.busy": "2022-09-06T16:25:23.733676Z",
     "iopub.status.idle": "2022-09-06T16:25:23.772175Z",
     "shell.execute_reply": "2022-09-06T16:25:23.766162Z",
     "shell.execute_reply.started": "2022-09-06T16:25:23.735026Z"
    },
    "tags": []
   },
   "outputs": [],
   "source": [
    "convert = {'no': 0, 'yes': 1}\n",
    "df_lr_outcome = df_lr_outcome.map(convert)"
   ]
  },
  {
   "cell_type": "markdown",
   "metadata": {
    "tags": []
   },
   "source": [
    "### Training the LR Model"
   ]
  },
  {
   "cell_type": "code",
   "execution_count": 26,
   "metadata": {
    "execution": {
     "iopub.execute_input": "2022-09-06T16:25:23.777009Z",
     "iopub.status.busy": "2022-09-06T16:25:23.775653Z",
     "iopub.status.idle": "2022-09-06T16:25:23.823242Z",
     "shell.execute_reply": "2022-09-06T16:25:23.821165Z",
     "shell.execute_reply.started": "2022-09-06T16:25:23.776951Z"
    },
    "tags": []
   },
   "outputs": [],
   "source": [
    "df_lr_train, df_lr_test, df_lr_outcome_train, df_lr_outcome_test = train_test_split(df_lr, df_lr_outcome, test_size=0.25, random_state=42)"
   ]
  },
  {
   "cell_type": "code",
   "execution_count": 27,
   "metadata": {
    "execution": {
     "iopub.execute_input": "2022-09-06T16:25:23.842815Z",
     "iopub.status.busy": "2022-09-06T16:25:23.826214Z",
     "iopub.status.idle": "2022-09-06T16:25:24.033148Z",
     "shell.execute_reply": "2022-09-06T16:25:24.025981Z",
     "shell.execute_reply.started": "2022-09-06T16:25:23.842743Z"
    },
    "tags": []
   },
   "outputs": [
    {
     "data": {
      "text/html": [
       "<style>#sk-container-id-1 {color: black;background-color: white;}#sk-container-id-1 pre{padding: 0;}#sk-container-id-1 div.sk-toggleable {background-color: white;}#sk-container-id-1 label.sk-toggleable__label {cursor: pointer;display: block;width: 100%;margin-bottom: 0;padding: 0.3em;box-sizing: border-box;text-align: center;}#sk-container-id-1 label.sk-toggleable__label-arrow:before {content: \"▸\";float: left;margin-right: 0.25em;color: #696969;}#sk-container-id-1 label.sk-toggleable__label-arrow:hover:before {color: black;}#sk-container-id-1 div.sk-estimator:hover label.sk-toggleable__label-arrow:before {color: black;}#sk-container-id-1 div.sk-toggleable__content {max-height: 0;max-width: 0;overflow: hidden;text-align: left;background-color: #f0f8ff;}#sk-container-id-1 div.sk-toggleable__content pre {margin: 0.2em;color: black;border-radius: 0.25em;background-color: #f0f8ff;}#sk-container-id-1 input.sk-toggleable__control:checked~div.sk-toggleable__content {max-height: 200px;max-width: 100%;overflow: auto;}#sk-container-id-1 input.sk-toggleable__control:checked~label.sk-toggleable__label-arrow:before {content: \"▾\";}#sk-container-id-1 div.sk-estimator input.sk-toggleable__control:checked~label.sk-toggleable__label {background-color: #d4ebff;}#sk-container-id-1 div.sk-label input.sk-toggleable__control:checked~label.sk-toggleable__label {background-color: #d4ebff;}#sk-container-id-1 input.sk-hidden--visually {border: 0;clip: rect(1px 1px 1px 1px);clip: rect(1px, 1px, 1px, 1px);height: 1px;margin: -1px;overflow: hidden;padding: 0;position: absolute;width: 1px;}#sk-container-id-1 div.sk-estimator {font-family: monospace;background-color: #f0f8ff;border: 1px dotted black;border-radius: 0.25em;box-sizing: border-box;margin-bottom: 0.5em;}#sk-container-id-1 div.sk-estimator:hover {background-color: #d4ebff;}#sk-container-id-1 div.sk-parallel-item::after {content: \"\";width: 100%;border-bottom: 1px solid gray;flex-grow: 1;}#sk-container-id-1 div.sk-label:hover label.sk-toggleable__label {background-color: #d4ebff;}#sk-container-id-1 div.sk-serial::before {content: \"\";position: absolute;border-left: 1px solid gray;box-sizing: border-box;top: 0;bottom: 0;left: 50%;z-index: 0;}#sk-container-id-1 div.sk-serial {display: flex;flex-direction: column;align-items: center;background-color: white;padding-right: 0.2em;padding-left: 0.2em;position: relative;}#sk-container-id-1 div.sk-item {position: relative;z-index: 1;}#sk-container-id-1 div.sk-parallel {display: flex;align-items: stretch;justify-content: center;background-color: white;position: relative;}#sk-container-id-1 div.sk-item::before, #sk-container-id-1 div.sk-parallel-item::before {content: \"\";position: absolute;border-left: 1px solid gray;box-sizing: border-box;top: 0;bottom: 0;left: 50%;z-index: -1;}#sk-container-id-1 div.sk-parallel-item {display: flex;flex-direction: column;z-index: 1;position: relative;background-color: white;}#sk-container-id-1 div.sk-parallel-item:first-child::after {align-self: flex-end;width: 50%;}#sk-container-id-1 div.sk-parallel-item:last-child::after {align-self: flex-start;width: 50%;}#sk-container-id-1 div.sk-parallel-item:only-child::after {width: 0;}#sk-container-id-1 div.sk-dashed-wrapped {border: 1px dashed gray;margin: 0 0.4em 0.5em 0.4em;box-sizing: border-box;padding-bottom: 0.4em;background-color: white;}#sk-container-id-1 div.sk-label label {font-family: monospace;font-weight: bold;display: inline-block;line-height: 1.2em;}#sk-container-id-1 div.sk-label-container {text-align: center;}#sk-container-id-1 div.sk-container {/* jupyter's `normalize.less` sets `[hidden] { display: none; }` but bootstrap.min.css set `[hidden] { display: none !important; }` so we also need the `!important` here to be able to override the default hidden behavior on the sphinx rendered scikit-learn.org. See: https://github.com/scikit-learn/scikit-learn/issues/21755 */display: inline-block !important;position: relative;}#sk-container-id-1 div.sk-text-repr-fallback {display: none;}</style><div id=\"sk-container-id-1\" class=\"sk-top-container\"><div class=\"sk-text-repr-fallback\"><pre>LinearRegression()</pre><b>In a Jupyter environment, please rerun this cell to show the HTML representation or trust the notebook. <br />On GitHub, the HTML representation is unable to render, please try loading this page with nbviewer.org.</b></div><div class=\"sk-container\" hidden><div class=\"sk-item\"><div class=\"sk-estimator sk-toggleable\"><input class=\"sk-toggleable__control sk-hidden--visually\" id=\"sk-estimator-id-1\" type=\"checkbox\" checked><label for=\"sk-estimator-id-1\" class=\"sk-toggleable__label sk-toggleable__label-arrow\">LinearRegression</label><div class=\"sk-toggleable__content\"><pre>LinearRegression()</pre></div></div></div></div></div>"
      ],
      "text/plain": [
       "LinearRegression()"
      ]
     },
     "execution_count": 27,
     "metadata": {},
     "output_type": "execute_result"
    }
   ],
   "source": [
    "lr_model = LinearRegression()\n",
    "lr_model.fit(df_lr_train, df_lr_outcome_train)"
   ]
  },
  {
   "cell_type": "markdown",
   "metadata": {
    "tags": []
   },
   "source": [
    "### Evaluating the Performance of the LR Model"
   ]
  },
  {
   "cell_type": "markdown",
   "metadata": {},
   "source": [
    "In the following we evaluate the performance of the LR model on the test set."
   ]
  },
  {
   "cell_type": "markdown",
   "metadata": {},
   "source": [
    "> The coefficient of determination $R^2$ is defined as $R^2 = (1 - \\frac{u}{v})$, where is the residual sum of squares `((y_true - y_pred)** 2).sum()` and is the total sum of squares `((y_true - y_true.mean()) ** 2).sum()`.\n",
    "\n",
    "The `score()` function computes $R^2$:"
   ]
  },
  {
   "cell_type": "code",
   "execution_count": 28,
   "metadata": {
    "execution": {
     "iopub.execute_input": "2022-09-06T16:25:24.057899Z",
     "iopub.status.busy": "2022-09-06T16:25:24.055701Z",
     "iopub.status.idle": "2022-09-06T16:25:24.109221Z",
     "shell.execute_reply": "2022-09-06T16:25:24.107037Z",
     "shell.execute_reply.started": "2022-09-06T16:25:24.057824Z"
    },
    "tags": []
   },
   "outputs": [
    {
     "data": {
      "text/plain": [
       "0.16641426355941735"
      ]
     },
     "execution_count": 28,
     "metadata": {},
     "output_type": "execute_result"
    }
   ],
   "source": [
    "lr_model.score(df_lr_test, df_lr_outcome_test)"
   ]
  },
  {
   "cell_type": "markdown",
   "metadata": {},
   "source": [
    "We transform the real-valued response variable into a 'yes'/'no' response (encoded as 1 and 0 as before):"
   ]
  },
  {
   "cell_type": "code",
   "execution_count": 29,
   "metadata": {
    "execution": {
     "iopub.execute_input": "2022-09-06T16:25:24.120264Z",
     "iopub.status.busy": "2022-09-06T16:25:24.118004Z",
     "iopub.status.idle": "2022-09-06T16:25:24.148583Z",
     "shell.execute_reply": "2022-09-06T16:25:24.145506Z",
     "shell.execute_reply.started": "2022-09-06T16:25:24.120197Z"
    },
    "tags": []
   },
   "outputs": [],
   "source": [
    "lr_predicted = np.round(lr_model.predict(df_lr_test)).astype(int)"
   ]
  },
  {
   "cell_type": "code",
   "execution_count": 30,
   "metadata": {
    "execution": {
     "iopub.execute_input": "2022-09-06T16:25:24.156839Z",
     "iopub.status.busy": "2022-09-06T16:25:24.154470Z",
     "iopub.status.idle": "2022-09-06T16:25:24.171738Z",
     "shell.execute_reply": "2022-09-06T16:25:24.167765Z",
     "shell.execute_reply.started": "2022-09-06T16:25:24.156762Z"
    },
    "tags": []
   },
   "outputs": [],
   "source": [
    "lr_performance = pd.DataFrame(data={'predicted': lr_predicted, 'outcome': df_lr_outcome_test})"
   ]
  },
  {
   "cell_type": "markdown",
   "metadata": {},
   "source": [
    "We compute the confusion matrix and performance metrics."
   ]
  },
  {
   "cell_type": "code",
   "execution_count": 31,
   "metadata": {
    "execution": {
     "iopub.execute_input": "2022-09-06T16:25:24.192837Z",
     "iopub.status.busy": "2022-09-06T16:25:24.183057Z",
     "iopub.status.idle": "2022-09-06T16:25:24.250404Z",
     "shell.execute_reply": "2022-09-06T16:25:24.244879Z",
     "shell.execute_reply.started": "2022-09-06T16:25:24.192757Z"
    },
    "jupyter": {
     "source_hidden": true
    },
    "tags": []
   },
   "outputs": [
    {
     "data": {
      "text/markdown": [
       "|  | Actual Subscriber | Actual Nonsubscriber | Total |\n",
       "|-----:|:---:|:----:|:----|\n",
       "| Predicted Subscriber | TP = 151 | FP = 112 | TP + FP = 263 |\n",
       "| Predicted Nonsubscriber | FN = 957 | TN = 8645 | FN + TN = 9602 |\n",
       "| Total | TP + FN=1108 | FP + TN = 8757 | 9865 |"
      ],
      "text/plain": [
       "<IPython.core.display.Markdown object>"
      ]
     },
     "metadata": {},
     "output_type": "display_data"
    },
    {
     "data": {
      "text/markdown": [
       "|  | &nbsp;&nbsp;&nbsp;&nbsp;&nbsp;&nbsp;&nbsp;&nbsp;&nbsp;&nbsp;&nbsp;&nbsp;&nbsp;&nbsp;&nbsp;&nbsp;&nbsp;&nbsp;&nbsp;&nbsp;&nbsp;&nbsp;&nbsp;&nbsp;&nbsp;&nbsp;&nbsp;&nbsp;&nbsp;&nbsp;&nbsp;&nbsp;&nbsp;&nbsp;&nbsp;&nbsp;&nbsp;&nbsp;&nbsp;|\n",
       "|-----:|:---|\n",
       "| Recall | ${ {\\mathrm {TP} } \\over {\\mathrm {TP} +\\mathrm {FN} }}=$ 13.63% |\n",
       "| Selectivity | ${ {\\mathrm {TN} } \\over {\\mathrm {TN} +\\mathrm {FP} }}=$ 98.72% |"
      ],
      "text/plain": [
       "<IPython.core.display.Markdown object>"
      ]
     },
     "metadata": {},
     "output_type": "display_data"
    }
   ],
   "source": [
    "confusion_matrix_md(lr_predicted, df_lr_outcome_test)\n",
    "recall_selectivity_md(lr_predicted, df_lr_outcome_test)"
   ]
  },
  {
   "cell_type": "markdown",
   "metadata": {},
   "source": [
    "From the matrix we can see that while we only targeted 263/9865 = 2.66% of the customers, we were able to capture 151/1108 = 13.63% of the theoretical maximum number of subscribers. Whether or not this trade-off is worth it cannot be determined, but a recall of only 13.63% is not particularly impressive."
   ]
  },
  {
   "cell_type": "markdown",
   "metadata": {
    "tags": []
   },
   "source": [
    "## Random Forest Classifier"
   ]
  },
  {
   "cell_type": "markdown",
   "metadata": {},
   "source": [
    "A random forest classifier builds many [decision trees](https://en.wikipedia.org/wiki/Decision_tree_learning) on fixed random subsets of the features during trainging and, to predict an outcome, has those trees \"vote\" on the predicted outcome. This generally performs better than a decision tree and mitigates the decision tree's tendancy to overfit the training data. Random forests inherit the advantages of Decision trees: they are simple, easy to understand, and allow for inspection of an explanation for why a given result was obtained. \n",
    "\n",
    "From an implementation perspective, random forests can work with both numeric and categorical features, unlike linear regression, making data preperation simpler. Another advantage over linear regression is that random forests have no linearity assumption."
   ]
  },
  {
   "cell_type": "markdown",
   "metadata": {
    "jp-MarkdownHeadingCollapsed": true,
    "tags": []
   },
   "source": [
    "### Code for Training the Random Forest Model"
   ]
  },
  {
   "cell_type": "code",
   "execution_count": 32,
   "metadata": {
    "execution": {
     "iopub.execute_input": "2022-09-06T16:25:24.258109Z",
     "iopub.status.busy": "2022-09-06T16:25:24.256702Z",
     "iopub.status.idle": "2022-09-06T16:25:31.457732Z",
     "shell.execute_reply": "2022-09-06T16:25:31.455299Z",
     "shell.execute_reply.started": "2022-09-06T16:25:24.258031Z"
    },
    "tags": []
   },
   "outputs": [
    {
     "name": "stdout",
     "output_type": "stream",
     "text": [
      "Checking whether there is an H2O instance running at http://localhost:54321 ..... not found.\n",
      "Attempting to start a local H2O server...\n",
      "  Java Version: openjdk version \"17.0.1\" 2021-10-19; OpenJDK Runtime Environment Temurin-17.0.1+12 (build 17.0.1+12); OpenJDK 64-Bit Server VM Temurin-17.0.1+12 (build 17.0.1+12, mixed mode, sharing)\n",
      "  Starting server from /usr/local/miniconda3/envs/datascience/lib/python3.10/site-packages/h2o/backend/bin/h2o.jar\n",
      "  Ice root: /var/folders/rx/xzdlj2w1459dp5msj8hv4v940000gn/T/tmp_apsh7uo\n",
      "  JVM stdout: /var/folders/rx/xzdlj2w1459dp5msj8hv4v940000gn/T/tmp_apsh7uo/h2o_rljacobson_started_from_python.out\n",
      "  JVM stderr: /var/folders/rx/xzdlj2w1459dp5msj8hv4v940000gn/T/tmp_apsh7uo/h2o_rljacobson_started_from_python.err\n",
      "  Server is running at http://127.0.0.1:54321\n",
      "Connecting to H2O server at http://127.0.0.1:54321 ... successful.\n"
     ]
    },
    {
     "data": {
      "text/html": [
       "<div style=\"overflow:auto\"><table style=\"width:50%\"><tr><td>H2O_cluster_uptime:</td>\n",
       "<td>03 secs</td></tr>\n",
       "<tr><td>H2O_cluster_timezone:</td>\n",
       "<td>America/New_York</td></tr>\n",
       "<tr><td>H2O_data_parsing_timezone:</td>\n",
       "<td>UTC</td></tr>\n",
       "<tr><td>H2O_cluster_version:</td>\n",
       "<td>3.36.1.4</td></tr>\n",
       "<tr><td>H2O_cluster_version_age:</td>\n",
       "<td>1 month and 2 days </td></tr>\n",
       "<tr><td>H2O_cluster_name:</td>\n",
       "<td>H2O_from_python_rljacobson_w3tk07</td></tr>\n",
       "<tr><td>H2O_cluster_total_nodes:</td>\n",
       "<td>1</td></tr>\n",
       "<tr><td>H2O_cluster_free_memory:</td>\n",
       "<td>4 Gb</td></tr>\n",
       "<tr><td>H2O_cluster_total_cores:</td>\n",
       "<td>4</td></tr>\n",
       "<tr><td>H2O_cluster_allowed_cores:</td>\n",
       "<td>4</td></tr>\n",
       "<tr><td>H2O_cluster_status:</td>\n",
       "<td>locked, healthy</td></tr>\n",
       "<tr><td>H2O_connection_url:</td>\n",
       "<td>http://127.0.0.1:54321</td></tr>\n",
       "<tr><td>H2O_connection_proxy:</td>\n",
       "<td>{\"http\": null, \"https\": null}</td></tr>\n",
       "<tr><td>H2O_internal_security:</td>\n",
       "<td>False</td></tr>\n",
       "<tr><td>Python_version:</td>\n",
       "<td>3.10.5 final</td></tr></table></div>"
      ],
      "text/plain": [
       "--------------------------  ---------------------------------\n",
       "H2O_cluster_uptime:         03 secs\n",
       "H2O_cluster_timezone:       America/New_York\n",
       "H2O_data_parsing_timezone:  UTC\n",
       "H2O_cluster_version:        3.36.1.4\n",
       "H2O_cluster_version_age:    1 month and 2 days\n",
       "H2O_cluster_name:           H2O_from_python_rljacobson_w3tk07\n",
       "H2O_cluster_total_nodes:    1\n",
       "H2O_cluster_free_memory:    4 Gb\n",
       "H2O_cluster_total_cores:    4\n",
       "H2O_cluster_allowed_cores:  4\n",
       "H2O_cluster_status:         locked, healthy\n",
       "H2O_connection_url:         http://127.0.0.1:54321\n",
       "H2O_connection_proxy:       {\"http\": null, \"https\": null}\n",
       "H2O_internal_security:      False\n",
       "Python_version:             3.10.5 final\n",
       "--------------------------  ---------------------------------"
      ]
     },
     "metadata": {},
     "output_type": "display_data"
    }
   ],
   "source": [
    "# SciKit-Learn's implementation of random forests cannot handle categorical data.\n",
    "# from sklearn.ensemble import RandomForestClassifier\n",
    "\n",
    "import h2o\n",
    "from h2o.estimators import H2ORandomForestEstimator\n",
    "h2o.init();"
   ]
  },
  {
   "cell_type": "code",
   "execution_count": 33,
   "metadata": {
    "execution": {
     "iopub.execute_input": "2022-09-06T16:25:31.463187Z",
     "iopub.status.busy": "2022-09-06T16:25:31.461352Z",
     "iopub.status.idle": "2022-09-06T16:25:35.350399Z",
     "shell.execute_reply": "2022-09-06T16:25:35.345777Z",
     "shell.execute_reply.started": "2022-09-06T16:25:31.463126Z"
    },
    "tags": []
   },
   "outputs": [
    {
     "name": "stdout",
     "output_type": "stream",
     "text": [
      "Parse progress: |████████████████████████████████████████████████████████████████| (done) 100%\n"
     ]
    }
   ],
   "source": [
    "# H2O wants to use its native H2OFrame instead of pandas.DataFrame.\n",
    "\n",
    "# Features we use for random forests\n",
    "rf_columns = [\n",
    "    'age',\n",
    "    'job',\n",
    "    'marital',\n",
    "    'education_level',\n",
    "    'housing_loan',\n",
    "    'personal_loan',\n",
    "    'contact_method',\n",
    "    'contact_month',\n",
    "    'contact_weekday',\n",
    "    'contact_count',\n",
    "    'employment_variation_rate',\n",
    "    'consumer_price_index',\n",
    "    'consumer_confidence_index',\n",
    "    'euribor_3_month_rate',\n",
    "    'employee_count',\n",
    "    'outcome'\n",
    "]\n",
    "df_rf = h2o.H2OFrame(df[rf_columns])"
   ]
  },
  {
   "cell_type": "code",
   "execution_count": 34,
   "metadata": {
    "execution": {
     "iopub.execute_input": "2022-09-06T16:25:35.355737Z",
     "iopub.status.busy": "2022-09-06T16:25:35.352791Z",
     "iopub.status.idle": "2022-09-06T16:25:35.374337Z",
     "shell.execute_reply": "2022-09-06T16:25:35.371704Z",
     "shell.execute_reply.started": "2022-09-06T16:25:35.355685Z"
    },
    "tags": []
   },
   "outputs": [],
   "source": [
    "df_rf['outcome'] = df_rf['outcome'].asfactor() # set the response as a factor\n",
    "rf_predictor_cols = rf_columns[:-1] # The response is the last column. Exclude it from predictors.\n",
    "rf_response_cols = 'outcome'"
   ]
  },
  {
   "cell_type": "code",
   "execution_count": 35,
   "metadata": {
    "execution": {
     "iopub.execute_input": "2022-09-06T16:25:35.385477Z",
     "iopub.status.busy": "2022-09-06T16:25:35.384473Z",
     "iopub.status.idle": "2022-09-06T16:25:36.048196Z",
     "shell.execute_reply": "2022-09-06T16:25:36.046853Z",
     "shell.execute_reply.started": "2022-09-06T16:25:35.385423Z"
    },
    "tags": []
   },
   "outputs": [],
   "source": [
    "# Split the dataset into a train and valid set:\n",
    "df_rf_train, df_rf_valid = df_rf.split_frame(ratios=[.75], seed=42) # Give random state for reproducibility"
   ]
  },
  {
   "cell_type": "code",
   "execution_count": 36,
   "metadata": {
    "execution": {
     "iopub.execute_input": "2022-09-06T16:25:36.051140Z",
     "iopub.status.busy": "2022-09-06T16:25:36.049930Z",
     "iopub.status.idle": "2022-09-06T16:25:36.064212Z",
     "shell.execute_reply": "2022-09-06T16:25:36.062332Z",
     "shell.execute_reply.started": "2022-09-06T16:25:36.051090Z"
    },
    "tags": []
   },
   "outputs": [],
   "source": [
    "rf_model = H2ORandomForestEstimator(\n",
    "    balance_classes=True, # Some feature classes are very unbalanced; improves recall\n",
    "    ntrees=200,\n",
    "    max_depth=0, # Default is 20\n",
    "    calibrate_model=True,    # Tends to improve recall on this data set\n",
    "    calibration_frame=df_rf_valid,\n",
    "    binomial_double_trees=True # Suitable for binary classification\n",
    ")"
   ]
  },
  {
   "cell_type": "code",
   "execution_count": 37,
   "metadata": {
    "execution": {
     "iopub.execute_input": "2022-09-06T16:25:36.071589Z",
     "iopub.status.busy": "2022-09-06T16:25:36.067525Z",
     "iopub.status.idle": "2022-09-06T16:26:39.042278Z",
     "shell.execute_reply": "2022-09-06T16:26:39.038092Z",
     "shell.execute_reply.started": "2022-09-06T16:25:36.071524Z"
    },
    "tags": []
   },
   "outputs": [
    {
     "name": "stdout",
     "output_type": "stream",
     "text": [
      "drf Model Build progress: |██████████████████████████████████████████████████████| (done) 100%\n"
     ]
    }
   ],
   "source": [
    "rf_model.train(\n",
    "    x=rf_predictor_cols,\n",
    "    y=rf_response_cols,\n",
    "    training_frame=df_rf_train,\n",
    "    validation_frame=df_rf_valid\n",
    ");"
   ]
  },
  {
   "cell_type": "markdown",
   "metadata": {},
   "source": [
    "### Evaluating the Performance of the Random Forest Model"
   ]
  },
  {
   "cell_type": "code",
   "execution_count": 38,
   "metadata": {
    "execution": {
     "iopub.execute_input": "2022-09-06T16:26:39.048083Z",
     "iopub.status.busy": "2022-09-06T16:26:39.046297Z",
     "iopub.status.idle": "2022-09-06T16:26:43.092044Z",
     "shell.execute_reply": "2022-09-06T16:26:43.088571Z",
     "shell.execute_reply.started": "2022-09-06T16:26:39.048023Z"
    },
    "tags": []
   },
   "outputs": [
    {
     "name": "stdout",
     "output_type": "stream",
     "text": [
      "drf prediction progress: |███████████████████████████████████████████████████████| (done) 100%\n"
     ]
    }
   ],
   "source": [
    "# Compute predictions on the test set\n",
    "df_rf_prediction = rf_model.predict(df_rf_valid).as_data_frame()"
   ]
  },
  {
   "cell_type": "code",
   "execution_count": 39,
   "metadata": {
    "execution": {
     "iopub.execute_input": "2022-09-06T16:26:43.097358Z",
     "iopub.status.busy": "2022-09-06T16:26:43.096299Z",
     "iopub.status.idle": "2022-09-06T16:26:43.423939Z",
     "shell.execute_reply": "2022-09-06T16:26:43.420699Z",
     "shell.execute_reply.started": "2022-09-06T16:26:43.097313Z"
    },
    "tags": []
   },
   "outputs": [
    {
     "data": {
      "text/markdown": [
       "|  | Actual Subscriber | Actual Nonsubscriber | Total |\n",
       "|-----:|:---:|:----:|:----|\n",
       "| Predicted Subscriber | TP = 596 | FP = 812 | TP + FP = 1408 |\n",
       "| Predicted Nonsubscriber | FN = 603 | TN = 8215 | FN + TN = 8818 |\n",
       "| Total | TP + FN=1199 | FP + TN = 9027 | 10226 |"
      ],
      "text/plain": [
       "<IPython.core.display.Markdown object>"
      ]
     },
     "metadata": {},
     "output_type": "display_data"
    }
   ],
   "source": [
    "df_rf_test = df_rf_valid.as_data_frame()\n",
    "confusion_matrix_md(df_rf_prediction['predict'], df_rf_test['outcome'])"
   ]
  },
  {
   "cell_type": "code",
   "execution_count": 40,
   "metadata": {
    "execution": {
     "iopub.execute_input": "2022-09-06T16:26:43.429174Z",
     "iopub.status.busy": "2022-09-06T16:26:43.426040Z",
     "iopub.status.idle": "2022-09-06T16:26:43.504381Z",
     "shell.execute_reply": "2022-09-06T16:26:43.503171Z",
     "shell.execute_reply.started": "2022-09-06T16:26:43.429114Z"
    },
    "tags": []
   },
   "outputs": [
    {
     "data": {
      "text/markdown": [
       "|  | &nbsp;&nbsp;&nbsp;&nbsp;&nbsp;&nbsp;&nbsp;&nbsp;&nbsp;&nbsp;&nbsp;&nbsp;&nbsp;&nbsp;&nbsp;&nbsp;&nbsp;&nbsp;&nbsp;&nbsp;&nbsp;&nbsp;&nbsp;&nbsp;&nbsp;&nbsp;&nbsp;&nbsp;&nbsp;&nbsp;&nbsp;&nbsp;&nbsp;&nbsp;&nbsp;&nbsp;&nbsp;&nbsp;&nbsp;|\n",
       "|-----:|:---|\n",
       "| Recall | ${ {\\mathrm {TP} } \\over {\\mathrm {TP} +\\mathrm {FN} }}=$ 49.71% |\n",
       "| Selectivity | ${ {\\mathrm {TN} } \\over {\\mathrm {TN} +\\mathrm {FP} }}=$ 91.00% |"
      ],
      "text/plain": [
       "<IPython.core.display.Markdown object>"
      ]
     },
     "metadata": {},
     "output_type": "display_data"
    }
   ],
   "source": [
    "recall_selectivity_md(df_rf_prediction['predict'], df_rf_test['outcome'])"
   ]
  },
  {
   "cell_type": "markdown",
   "metadata": {},
   "source": [
    "From the matrix we can see that while we only targeted 1576/10226 = 15.41% of the customers, we were able to capture 635/1199 = 52.96% of the theoretical maximum number of subscribers. "
   ]
  },
  {
   "cell_type": "markdown",
   "metadata": {},
   "source": [
    "## Neural Network Classifier"
   ]
  },
  {
   "cell_type": "markdown",
   "metadata": {
    "execution": {
     "iopub.execute_input": "2022-09-06T16:26:43.509668Z",
     "iopub.status.busy": "2022-09-06T16:26:43.508535Z",
     "iopub.status.idle": "2022-09-06T16:26:43.520470Z",
     "shell.execute_reply": "2022-09-06T16:26:43.518013Z",
     "shell.execute_reply.started": "2022-09-06T16:26:43.509620Z"
    },
    "tags": []
   },
   "source": [
    "###  Pipeline"
   ]
  },
  {
   "cell_type": "markdown",
   "metadata": {},
   "source": [
    "We will demonstrate a typical data pipeline with this model. A pipeline encapsulates the data cleaning and preprocessing steps. The advantages of a pipeline over a more ad hoc approach are staples of software engineering best practices:\n",
    "\n",
    " * Encapsulation: The implementation details of a software component are hidden from users that do not need to know those details.\n",
    " * Separation of Concerns: Data cleaning, preprocessing, and encoding are different and distinct activities from model training, validation, and deployment. Therefore, it makes sense to separate these tasks into different modules.\n",
    " * DRY: Don't Repeat Yourself. Modular software components are able to be reused. Programmers are spared having to write the same code over and over again. \n",
    " * Reproducability: Capturing the data preparation phase in a pipeline means that running the same pipeline on the same data produces the same results every time.\n",
    " \n",
    "There are other ML-specific advantages of using a formal data pipeline, some of which will depend on the architecture of the pipeline (the software framework used). For example:\n",
    "\n",
    " * Scale: Data pipelines can be run as distributed workloads in a cluster and on an as-needed basis.\n",
    " * Efficiency: The results of intermediate steps of a pipeline can be cached and resused if needed.\n",
    " * Independence of ML Framework: There are many ML frameworks in common use, like TensorFlow, PyTorch, SparkML, and so on. Encapsulating data preparation into a discrete unit makes this phase independent of these frameworks."
   ]
  },
  {
   "cell_type": "markdown",
   "metadata": {},
   "source": [
    "We have already written the pieces that will go in to our pipeline. Like linear regression, but unlike random forests, neural networks require input data to be numeric. Here is a summary of transformations we need to make on the data set before inputing it into a neural network classifier:\n",
    "\n",
    " 1. Rename the columns with meaningful names\n",
    " 2. Replace special values that indicate missing data with a consistent NaN value\n",
    " 3. Create `education_level` as a numeric quantity from the categorical `education` column\n",
    " 4. Exclude `credit_in_default`, `call_duration`, and other columns that should not be used for prediction\n",
    " 5. Make `months` numeric\n",
    " 1. Make `outcome` numeric\n",
    " 1. Filter out extremely low frequency unknowns\n",
    " 6. Encode categorical data that is never missing using simple dummy encoding, making the first value implicit\n",
    " 7. Encode categorical data that does have missing data using simple dummy encoding, making the `NaN` value implicit\n",
    " "
   ]
  },
  {
   "cell_type": "markdown",
   "metadata": {
    "jp-MarkdownHeadingCollapsed": true,
    "tags": []
   },
   "source": [
    "#### Pipeline Code"
   ]
  },
  {
   "cell_type": "markdown",
   "metadata": {},
   "source": [
    "The following code is less than satisfying due to\n",
    "\n",
    "1. limitations in SciKit-Learn's pipeline API, and\n",
    "2. the amount of time I have to mitigate #1.\n",
    "\n",
    "In 'real life' I would package the code far better."
   ]
  },
  {
   "cell_type": "code",
   "execution_count": 42,
   "metadata": {
    "execution": {
     "iopub.execute_input": "2022-09-06T17:13:55.336340Z",
     "iopub.status.busy": "2022-09-06T17:13:55.335564Z",
     "iopub.status.idle": "2022-09-06T17:13:55.510950Z",
     "shell.execute_reply": "2022-09-06T17:13:55.508847Z",
     "shell.execute_reply.started": "2022-09-06T17:13:55.336279Z"
    }
   },
   "outputs": [],
   "source": [
    "from sklearn.preprocessing import StandardScaler, OrdinalEncoder, LabelEncoder, OneHotEncoder\n",
    "from sklearn.impute import SimpleImputer\n",
    "from sklearn.compose import ColumnTransformer\n",
    "from sklearn.pipeline import Pipeline\n",
    "\n",
    "from sklearn.neural_network import MLPClassifier"
   ]
  },
  {
   "cell_type": "code",
   "execution_count": 109,
   "metadata": {
    "execution": {
     "iopub.execute_input": "2022-09-07T16:57:10.196518Z",
     "iopub.status.busy": "2022-09-07T16:57:10.195862Z",
     "iopub.status.idle": "2022-09-07T16:57:10.215279Z",
     "shell.execute_reply": "2022-09-07T16:57:10.212606Z",
     "shell.execute_reply.started": "2022-09-07T16:57:10.196469Z"
    },
    "tags": []
   },
   "outputs": [],
   "source": [
    "# Does not work in place.\n",
    "def rename_columns(data):\n",
    "    result = data.rename(\n",
    "        columns={\n",
    "            # Customer info\n",
    "            'y':'outcome', \n",
    "            'default': 'credit_in_default', \n",
    "            'housing': 'housing_loan', \n",
    "            'loan':    'personal_loan', \n",
    "\n",
    "            # Specific to this campaign\n",
    "            'contact':     'contact_method',\n",
    "            'month':       'contact_month',\n",
    "            'day_of_week': 'contact_weekday',\n",
    "            'duration':    'contact_duration', # Do not use for prediction. See data description.\n",
    "            'campaign':    'contact_count',    # For this campaign only\n",
    "            # Regarding previous campaign\n",
    "            'pdays':       'days_since_previous_campaign_contact',\n",
    "            'previous':    'previous_contact_count', # Count of times contacted before the current campaign.\n",
    "            'poutcome':    'previous_outcome',       # Outcome of previous campaign.\n",
    "\n",
    "            # Social and Economic data\n",
    "            'emp.var.rate':   'employment_variation_rate', # Quarterly indicator -- for what quarter?\n",
    "            'cons.price.idx': 'consumer_price_index',      # Monthly indicator -- for what month?\n",
    "            'cons.conf.idx': 'consumer_confidence_index',  # Monthly indicator -- for what month?\n",
    "            'euribor3m':     'euribor_3_month_rate',       # Daily indicator -- for what day?\n",
    "            'nr.employed':   'employee_count',             # What is this?\n",
    "        }\n",
    "    )\n",
    "    return result\n",
    "\n",
    "\n",
    "\n",
    "# Probably don't need this list, but we keep it to make the excluded columns explicit.\n",
    "excluded_columns = [\n",
    "    # Too few records have credit in default\n",
    "    'credit_in_default', \n",
    "    # Data for previous campaign is mostly missing, so we use it only for benchmark comparisons\n",
    "    'days_since_previous_campaign_contact', 'previous_contact_count', 'previous_outcome',\n",
    "    # Encoded as `'education_level'`\n",
    "    'education',\n",
    "    # Excluded; see note in data set description.\n",
    "    'contact_duration',\n",
    "    # Variable we wish to predict\n",
    "    # 'outcome', \n",
    "]\n",
    "\n",
    "# Columns to use as predictors for linear regression.\n",
    "predictors = ['age', 'job', 'marital', 'housing_loan', 'personal_loan', 'contact_method', 'contact_month', 'contact_weekday',  'contact_count',  'employment_variation_rate', 'consumer_price_index', 'consumer_confidence_index', 'euribor_3_month_rate', 'employee_count', 'education']\n",
    "outcome = ['outcome']\n",
    "valid_columns = predictors + outcome\n",
    " \n",
    "    \n",
    "def filter_out_low_freq_unknowns(data):   \n",
    "    return data[valid_columns][data['education']!='unknown']\n",
    "\n",
    "\n",
    "# Exclude some columns from prediction\n",
    "def select_predictors(data):\n",
    "    return data[valid_columns]\n",
    "\n",
    "\n",
    "def make_outcome_numeric(data):\n",
    "    convert = {'no': 0, 'yes': 1}\n",
    "    data['outcome'] = data['outcome'].map(convert)\n",
    "    return data\n",
    "\n",
    "\n",
    "def fix_admin(data):\n",
    "    replacements = {\n",
    "        # The period confuses the data type conversion method.\n",
    "        'admin.': 'admin'\n",
    "    }\n",
    "    return data.replace(to_replace=replacements)\n"
   ]
  },
  {
   "cell_type": "code",
   "execution_count": null,
   "metadata": {
    "jupyter": {
     "source_hidden": true
    },
    "tags": []
   },
   "outputs": [],
   "source": [
    "# # Note: Modifies in place, returns data.\n",
    "# def normalize_missing_data(data):\n",
    "#     replacements = {\n",
    "#         # Several columns\n",
    "#         'unknown': np.nan,\n",
    "#         # Days since previous campaign contact uses 999 as a special value. Should really only apply this to the days columns.\n",
    "#         999: np.nan,\n",
    "#         # If a customer did not exist during the previous campaing, its outcome is `'nonexistent'`\n",
    "#         'nonexistent': np.nan,\n",
    "#     }\n",
    "#     return data.replace(to_replace=replacements)\n",
    "\n",
    "\n",
    "# # Note: Modifies in place, overwrites `education_level`, returns data.\n",
    "# def make_education_levels(data):\n",
    "#     ed_levels = {\n",
    "#         'illiterate': 0,\n",
    "#         'basic.4y': 1,\n",
    "#         'basic.6y': 2,\n",
    "#         'basic.9y': 3,\n",
    "#         'high.school': 4,\n",
    "#         'professional.course': 5,\n",
    "#         'university.degree': 6,\n",
    "#         'unknown': np.nan,\n",
    "#         # If I have already replaced `'unknown'` with `np.nan`:\n",
    "#         np.nan: np.nan\n",
    "#     }\n",
    "#     data['education_level'] = data['education'].map(lambda x: ed_levels[x])\n",
    "#     return data\n",
    "\n",
    "\n",
    "# # Note: Modifies in place, overwrites `contact_month`, returns data.\n",
    "# def make_months_numeric(data):\n",
    "#     months = { m: i+3 for i, m in enumerate(['mar', 'apr', 'may', 'jun', 'jul', 'aug', 'sep', 'oct', 'nov', 'dec']) }\n",
    "#     data['contact_month'] = data['contact_month'].map(lambda x: months[x])\n",
    "#     return data\n",
    "\n",
    "\n",
    "\n",
    "# # Encode categorical data using simple dummy encoding making first value implicit.\n",
    "# def cat_to_num(data)\n",
    "#     encoded_cols = ['contact_method', 'contact_weekday']\n",
    "#     df_dummies = pd.get_dummies(data[encoded_cols], drop_first = True, dummy_na=False)\n",
    "#     return pd.concat([data[[c for c in data.columns if c not in encoded_cols]], df_dummies], axis=1)\n",
    "\n",
    "\n",
    "# # Same as above, but use `NaN` value for the implicit dummy column.\n",
    "# def cat_to_num_nan_implicit(data)\n",
    "#     encoded_cols = ['marital', 'job', 'housing_loan', 'personal_loan']\n",
    "#     df_dummies = pd.get_dummies(data[encoded_cols], drop_first = False, dummy_na=True)\n",
    "#     result = pd.concat([data[[c for c in data.columns if c not in encoded_cols]], df_dummies], axis=1)\n",
    "#     # We created dummy NaN columns so we can drop them. \n",
    "#     # ToDo: Is this right? Can't we just say `dummy_na=False`?\n",
    "#     return result[[c for c in result.columns if not c.endswith('_nan')]]"
   ]
  },
  {
   "cell_type": "code",
   "execution_count": 167,
   "metadata": {
    "execution": {
     "iopub.execute_input": "2022-09-07T18:22:02.071606Z",
     "iopub.status.busy": "2022-09-07T18:22:02.071098Z",
     "iopub.status.idle": "2022-09-07T18:22:02.087994Z",
     "shell.execute_reply": "2022-09-07T18:22:02.085866Z",
     "shell.execute_reply.started": "2022-09-07T18:22:02.071571Z"
    },
    "tags": []
   },
   "outputs": [],
   "source": [
    "month_encoder = OrdinalEncoder()\n",
    "month_encoder = month_encoder.fit(\n",
    "    np.array(['mar', 'apr', 'may', 'jun', 'jul', 'aug', 'sep', 'oct', 'nov', 'dec']).reshape(-1, 1)\n",
    ")\n",
    "\n",
    "education_encoder = OrdinalEncoder()\n",
    "education_encoder = education_encoder.fit(\n",
    "    np.array(['illiterate', 'basic.4y', 'basic.6y', 'basic.9y', 'high.school', 'professional.course', 'university.degree']).reshape(-1, 1)\n",
    ")\n",
    "\n",
    "outcome_encoder = OrdinalEncoder()\n",
    "outcome_encoder = outcome_encoder.fit(\n",
    "    np.array(['no', 'yes']).reshape(-1, 1)\n",
    ")\n",
    "\n",
    "\n",
    "transformers = [\n",
    "    (\n",
    "        'unknown_to_nan',\n",
    "        SimpleImputer(missing_values=\"unknown\", strategy=\"constant\", fill_value=np.nan),\n",
    "        ['job', 'marital', 'education', 'housing_loan', 'personal_loan']\n",
    "    ),\n",
    "    # (\n",
    "    #     'nonexistent_to_nan',\n",
    "    #     SimpleImputer(missing_values=\"nonexistent\", strategy=\"constant\", fill_value=np.nan), \n",
    "    #     ['previous_outcome']\n",
    "    # ),\n",
    "    # (\n",
    "    #     'nines_to_nan',\n",
    "    #     SimpleImputer(missing_values=999, strategy=\"constant\", fill_value=np.nan),\n",
    "    #     ['days_since_previous_campaign_contact']\n",
    "    # ),\n",
    "    (\n",
    "        'make_months_numeric',\n",
    "        month_encoder,\n",
    "        ['contact_month']\n",
    "    ),\n",
    "    (\n",
    "        'make_education_level',\n",
    "        education_encoder,\n",
    "        ['education']\n",
    "    ),\n",
    "    # (\n",
    "    #     'make_outcome_binary',\n",
    "    #     outcome_encoder.\n",
    "    #     ['outcome']\n",
    "    # ),\n",
    "    (\n",
    "        # Encode categorical data using simple dummy encoding making first value implicit.\n",
    "        'cat_to_one_hot',\n",
    "        OneHotEncoder(drop='first'),\n",
    "        ['contact_method', 'contact_weekday']\n",
    "    ),\n",
    "    (\n",
    "        # Same as above, but use `NaN` value for the implicit dummy column.\n",
    "        'cat_with_nan_to_one_hot',\n",
    "        OneHotEncoder(handle_unknown='ignore'),\n",
    "        ['marital', 'job', 'housing_loan', 'personal_loan']\n",
    "    ),\n",
    "    (\n",
    "        'standardize_scale',\n",
    "        StandardScaler(),\n",
    "        ['age', 'contact_count', 'employment_variation_rate', 'consumer_price_index', 'consumer_confidence_index', 'euribor_3_month_rate', 'employee_count']\n",
    "    )\n",
    "]\n",
    "\n"
   ]
  },
  {
   "cell_type": "code",
   "execution_count": null,
   "metadata": {},
   "outputs": [],
   "source": [
    "# Data prep not handled by SciKit-Learn Pipeline API\n",
    "df_clean = rename_columns(df) # ToDo: Figure out how to do this with Pipeline API.\n",
    "df_clean = filter_out_low_freq_unknowns(df_clean) # The Pipeline API cannot filter rows.\n",
    "df_clean = make_outcome_numeric(df_clean) # ToDo: Can be done with an imputer.\n",
    "df_clean = fix_admin(df_clean) # ToDo: Can be done with an imputer?\n",
    "\n",
    "\n",
    "# Split training and testing sets\n",
    "df_train, df_test, df_outcome_train, df_outcome_test = train_test_split(df_clean[predictors], df_clean['outcome'], test_size=0.25, random_state=42)\n",
    "\n",
    "\n",
    "# Transform data.\n",
    "transformer = ColumnTransformer(transformers, remainder='drop')\n",
    "transformer = transformer.fit(df_train)\n",
    "\n",
    "df_train = transformer.transform(df_train)\n",
    "df_test = transformer.transform(df_test)\n",
    "\n",
    "# ToDO: Because the `SimpleImputer` acts on some columns before those columns are transformed, `ColumnTransformer`\n",
    "#       retains those columns in the final output. I am not sure how to prevent this behavior.\n",
    "# drop_columns = ['job', 'marital', 'education', 'housing_loan', 'personal_loan']\n",
    "df_train = np.delete(df_train, obj=range(5), axis=1)\n",
    "df_test = np.delete(df_test, obj=range(5), axis=1)\n",
    "\n",
    "\n",
    "# A `Pipeline` object cannot be used until the ToDo above is resolved.\n",
    "# pipeline = Pipeline(\n",
    "#     [\n",
    "#         ('preprocessing_pipeline', transformer),\n",
    "#         ('neural_network_classifier', MLPClassifier(random_state=42))\n",
    "#     ]\n",
    "# )"
   ]
  },
  {
   "cell_type": "markdown",
   "metadata": {
    "tags": []
   },
   "source": [
    "### Training the neural network"
   ]
  },
  {
   "cell_type": "markdown",
   "metadata": {},
   "source": [
    "The `max_iter` parameter specifies how many epochs to train for before stopping. The default solver algorithm uses a form of stochastic gradient descent, \"a stochastic gradient-based optimizer proposed by Kingma, Diederik, and Jimmy Ba\" ([docs](https://scikit-learn.org/stable/modules/generated/sklearn.neural_network.MLPClassifier.html#sklearn.neural_network.MLPClassifier))."
   ]
  },
  {
   "cell_type": "code",
   "execution_count": 182,
   "metadata": {
    "execution": {
     "iopub.execute_input": "2022-09-07T18:53:14.233386Z",
     "iopub.status.busy": "2022-09-07T18:53:14.232787Z",
     "iopub.status.idle": "2022-09-07T18:53:52.623099Z",
     "shell.execute_reply": "2022-09-07T18:53:52.621902Z",
     "shell.execute_reply.started": "2022-09-07T18:53:14.233348Z"
    },
    "tags": []
   },
   "outputs": [
    {
     "name": "stdout",
     "output_type": "stream",
     "text": [
      "CPU times: user 2min 8s, sys: 2.76 s, total: 2min 10s\n",
      "Wall time: 38.4 s\n"
     ]
    }
   ],
   "source": [
    "%%time\n",
    "nn_classifier = MLPClassifier(random_state=42, max_iter=1000).fit(df_train, df_outcome_train)"
   ]
  },
  {
   "cell_type": "markdown",
   "metadata": {},
   "source": [
    "On a 1.6 GHz Dual-Core Intel Core i5 training takes ~40s."
   ]
  },
  {
   "cell_type": "markdown",
   "metadata": {
    "tags": []
   },
   "source": [
    "### Evaluating the performance of the NN Classifier"
   ]
  },
  {
   "cell_type": "markdown",
   "metadata": {},
   "source": [
    "We compute the confusion matrix for the neural network classifier."
   ]
  },
  {
   "cell_type": "code",
   "execution_count": 181,
   "metadata": {
    "execution": {
     "iopub.execute_input": "2022-09-07T18:42:18.490117Z",
     "iopub.status.busy": "2022-09-07T18:42:18.489211Z",
     "iopub.status.idle": "2022-09-07T18:42:18.567660Z",
     "shell.execute_reply": "2022-09-07T18:42:18.566015Z",
     "shell.execute_reply.started": "2022-09-07T18:42:18.490051Z"
    },
    "jupyter": {
     "source_hidden": true
    },
    "tags": []
   },
   "outputs": [
    {
     "data": {
      "text/markdown": [
       "|  | Actual Subscriber | Actual Nonsubscriber | Total |\n",
       "|-----:|:---:|:----:|:----|\n",
       "| Predicted Subscriber | TP = 272 | FP = 257 | TP + FP = 529 |\n",
       "| Predicted Nonsubscriber | FN = 836 | TN = 8500 | FN + TN = 9336 |\n",
       "| Total | TP + FN=1108 | FP + TN = 8757 | 9865 |"
      ],
      "text/plain": [
       "<IPython.core.display.Markdown object>"
      ]
     },
     "metadata": {},
     "output_type": "display_data"
    },
    {
     "data": {
      "text/markdown": [
       "|  | &nbsp;&nbsp;&nbsp;&nbsp;&nbsp;&nbsp;&nbsp;&nbsp;&nbsp;&nbsp;&nbsp;&nbsp;&nbsp;&nbsp;&nbsp;&nbsp;&nbsp;&nbsp;&nbsp;&nbsp;&nbsp;&nbsp;&nbsp;&nbsp;&nbsp;&nbsp;&nbsp;&nbsp;&nbsp;&nbsp;&nbsp;&nbsp;&nbsp;&nbsp;&nbsp;&nbsp;&nbsp;&nbsp;&nbsp;|\n",
       "|-----:|:---|\n",
       "| Recall | ${ {\\mathrm {TP} } \\over {\\mathrm {TP} +\\mathrm {FN} }}=$ 24.55% |\n",
       "| Selectivity | ${ {\\mathrm {TN} } \\over {\\mathrm {TN} +\\mathrm {FP} }}=$ 97.07% |"
      ],
      "text/plain": [
       "<IPython.core.display.Markdown object>"
      ]
     },
     "metadata": {},
     "output_type": "display_data"
    }
   ],
   "source": [
    "nn_predicted = nn_classifier.predict(df_test)\n",
    "\n",
    "confusion_matrix_md(nn_predicted, df_outcome_test)\n",
    "recall_selectivity_md(nn_predicted, df_outcome_test)"
   ]
  },
  {
   "cell_type": "markdown",
   "metadata": {},
   "source": [
    "From the matrix we can see that while we only targeted 529/9865 = 5.36% of the customers, we were able to capture 272/1108 = 24.55% of the theoretical maximum number of subscribers. "
   ]
  },
  {
   "cell_type": "code",
   "execution_count": null,
   "metadata": {},
   "outputs": [],
   "source": []
  }
 ],
 "metadata": {
  "kernelspec": {
   "display_name": "Python 3 (ipykernel)",
   "language": "python",
   "name": "python3"
  },
  "language_info": {
   "codemirror_mode": {
    "name": "ipython",
    "version": 3
   },
   "file_extension": ".py",
   "mimetype": "text/x-python",
   "name": "python",
   "nbconvert_exporter": "python",
   "pygments_lexer": "ipython3",
   "version": "3.10.5"
  }
 },
 "nbformat": 4,
 "nbformat_minor": 4
}
